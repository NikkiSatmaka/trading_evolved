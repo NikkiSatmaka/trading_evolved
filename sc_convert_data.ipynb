{
 "cells": [
  {
   "cell_type": "code",
   "execution_count": 1,
   "metadata": {},
   "outputs": [],
   "source": [
    "import pandas as pd\n",
    "import numpy as np\n",
    "import os\n",
    "\n",
    "%matplotlib inline"
   ]
  },
  {
   "cell_type": "code",
   "execution_count": 2,
   "metadata": {},
   "outputs": [],
   "source": [
    "contract_loc = '/home/nikki/data-sc'\n",
    "contract_files = list(file for file in os.listdir(contract_loc) if file[-3:] == 'csv')"
   ]
  },
  {
   "cell_type": "code",
   "execution_count": 3,
   "metadata": {},
   "outputs": [],
   "source": [
    "\"\"\"\n",
    "Create a dictionary where the key is the ticker\n",
    "and the value is a pandas dataframe of the OHLC time series\n",
    "Run this every weekday at 13:00 GMT+7\n",
    "\"\"\"\n",
    "data_futures = {}\n",
    "for file in contract_files:\n",
    "    data_futures['-'.join(file.split('-')[:-1])] = pd.read_csv(f'{contract_loc}/{file}', usecols=[0, 5], index_col=0, parse_dates=True)"
   ]
  },
  {
   "cell_type": "code",
   "execution_count": 4,
   "metadata": {},
   "outputs": [],
   "source": [
    "for key, item in data_futures.items():\n",
    "    item.to_csv(f'data/sc_vol_adj_futures/{key}.csv')"
   ]
  },
  {
   "cell_type": "code",
   "execution_count": null,
   "metadata": {},
   "outputs": [],
   "source": []
  }
 ],
 "metadata": {
  "kernelspec": {
   "display_name": "Python 3",
   "language": "python",
   "name": "python3"
  },
  "language_info": {
   "codemirror_mode": {
    "name": "ipython",
    "version": 3
   },
   "file_extension": ".py",
   "mimetype": "text/x-python",
   "name": "python",
   "nbconvert_exporter": "python",
   "pygments_lexer": "ipython3",
   "version": "3.8.3"
  }
 },
 "nbformat": 4,
 "nbformat_minor": 4
}
