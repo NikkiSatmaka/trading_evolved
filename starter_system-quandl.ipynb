{
 "cells": [
  {
   "cell_type": "markdown",
   "metadata": {},
   "source": [
    "# Research Start"
   ]
  },
  {
   "cell_type": "code",
   "execution_count": 1,
   "metadata": {},
   "outputs": [],
   "source": [
    "from datetime import datetime\n",
    "from scipy import stats\n",
    "import backtrader as bt\n",
    "# import yfinance_ez as yf\n",
    "import pandas as pd\n",
    "import numpy as np\n",
    "import matplotlib.pyplot as plt\n",
    "import matplotlib\n",
    "import matplotlib.ticker as ticker\n",
    "import os\n",
    "import quandl\n",
    "\n",
    "%matplotlib inline\n",
    "quandl.read_key()"
   ]
  },
  {
   "cell_type": "markdown",
   "metadata": {},
   "source": [
    "### Creating Futures Time Series"
   ]
  },
  {
   "cell_type": "code",
   "execution_count": 2,
   "metadata": {},
   "outputs": [],
   "source": [
    "NQ = quandl.get(\"CHRIS/CME_NQ1\")\n",
    "UL = quandl.get(\"CHRIS/CME_UL1\")\n",
    "B6 = quandl.get(\"CHRIS/CME_BP1\")\n",
    "GC = quandl.get(\"CHRIS/CME_GC1\")\n",
    "FDAX = quandl.get(\"CHRIS/EUREX_FDAX1\")\n",
    "FGBL = quandl.get(\"CHRIS/EUREX_FGBL1\")\n",
    "A6 = quandl.get(\"CHRIS/CME_AD1\")\n",
    "HE = quandl.get(\"CHRIS/CME_LN1\")"
   ]
  },
  {
   "cell_type": "code",
   "execution_count": 39,
   "metadata": {},
   "outputs": [],
   "source": [
    "FDAX_2 = quandl.get(\"CHRIS/EUREX_FDAX2\")"
   ]
  },
  {
   "cell_type": "code",
   "execution_count": 46,
   "metadata": {},
   "outputs": [
    {
     "data": {
      "text/html": [
       "<div>\n",
       "<style scoped>\n",
       "    .dataframe tbody tr th:only-of-type {\n",
       "        vertical-align: middle;\n",
       "    }\n",
       "\n",
       "    .dataframe tbody tr th {\n",
       "        vertical-align: top;\n",
       "    }\n",
       "\n",
       "    .dataframe thead th {\n",
       "        text-align: right;\n",
       "    }\n",
       "</style>\n",
       "<table border=\"1\" class=\"dataframe\">\n",
       "  <thead>\n",
       "    <tr style=\"text-align: right;\">\n",
       "      <th></th>\n",
       "      <th>Open</th>\n",
       "      <th>High</th>\n",
       "      <th>Low</th>\n",
       "      <th>Settle</th>\n",
       "      <th>Volume</th>\n",
       "      <th>Prev. Day Open Interest</th>\n",
       "    </tr>\n",
       "    <tr>\n",
       "      <th>Date</th>\n",
       "      <th></th>\n",
       "      <th></th>\n",
       "      <th></th>\n",
       "      <th></th>\n",
       "      <th></th>\n",
       "      <th></th>\n",
       "    </tr>\n",
       "  </thead>\n",
       "  <tbody>\n",
       "    <tr>\n",
       "      <th>2020-06-15</th>\n",
       "      <td>11869.0</td>\n",
       "      <td>12080.0</td>\n",
       "      <td>11575.0</td>\n",
       "      <td>11907.0</td>\n",
       "      <td>20503.0</td>\n",
       "      <td>19807.0</td>\n",
       "    </tr>\n",
       "    <tr>\n",
       "      <th>2020-06-16</th>\n",
       "      <td>12163.0</td>\n",
       "      <td>12417.5</td>\n",
       "      <td>12117.0</td>\n",
       "      <td>12302.0</td>\n",
       "      <td>34702.0</td>\n",
       "      <td>44423.0</td>\n",
       "    </tr>\n",
       "    <tr>\n",
       "      <th>2020-06-17</th>\n",
       "      <td>12267.0</td>\n",
       "      <td>12413.5</td>\n",
       "      <td>12208.5</td>\n",
       "      <td>12353.0</td>\n",
       "      <td>36218.0</td>\n",
       "      <td>60117.0</td>\n",
       "    </tr>\n",
       "    <tr>\n",
       "      <th>2020-06-18</th>\n",
       "      <td>12277.0</td>\n",
       "      <td>12463.5</td>\n",
       "      <td>12137.0</td>\n",
       "      <td>12273.0</td>\n",
       "      <td>54266.0</td>\n",
       "      <td>78362.0</td>\n",
       "    </tr>\n",
       "    <tr>\n",
       "      <th>2020-06-19</th>\n",
       "      <td>12281.0</td>\n",
       "      <td>12418.0</td>\n",
       "      <td>12156.0</td>\n",
       "      <td>12321.0</td>\n",
       "      <td>102639.0</td>\n",
       "      <td>84983.0</td>\n",
       "    </tr>\n",
       "  </tbody>\n",
       "</table>\n",
       "</div>"
      ],
      "text/plain": [
       "               Open     High      Low   Settle    Volume  \\\n",
       "Date                                                       \n",
       "2020-06-15  11869.0  12080.0  11575.0  11907.0   20503.0   \n",
       "2020-06-16  12163.0  12417.5  12117.0  12302.0   34702.0   \n",
       "2020-06-17  12267.0  12413.5  12208.5  12353.0   36218.0   \n",
       "2020-06-18  12277.0  12463.5  12137.0  12273.0   54266.0   \n",
       "2020-06-19  12281.0  12418.0  12156.0  12321.0  102639.0   \n",
       "\n",
       "            Prev. Day Open Interest  \n",
       "Date                                 \n",
       "2020-06-15                  19807.0  \n",
       "2020-06-16                  44423.0  \n",
       "2020-06-17                  60117.0  \n",
       "2020-06-18                  78362.0  \n",
       "2020-06-19                  84983.0  "
      ]
     },
     "execution_count": 46,
     "metadata": {},
     "output_type": "execute_result"
    }
   ],
   "source": [
    "FDAX_2.tail(5)"
   ]
  },
  {
   "cell_type": "code",
   "execution_count": 3,
   "metadata": {},
   "outputs": [],
   "source": [
    "def volatility(ts, period=24):\n",
    "    \"\"\"\n",
    "    Input:  Price time series, Look back period\n",
    "    Output: Standard deviation of the percent change\n",
    "    \"\"\"\n",
    "    return ts.pct_change().rolling(period).std().iloc[-1]"
   ]
  },
  {
   "cell_type": "code",
   "execution_count": 4,
   "metadata": {},
   "outputs": [
    {
     "data": {
      "text/plain": [
       "0.3063390448246512"
      ]
     },
     "execution_count": 4,
     "metadata": {},
     "output_type": "execute_result"
    }
   ],
   "source": [
    "volatility(NQ['Settle'], 24) * 16"
   ]
  },
  {
   "cell_type": "code",
   "execution_count": 5,
   "metadata": {},
   "outputs": [],
   "source": [
    "NQ['Settle'].iloc[-757:].to_clipboard()"
   ]
  },
  {
   "cell_type": "code",
   "execution_count": 6,
   "metadata": {},
   "outputs": [
    {
     "data": {
      "text/plain": [
       "0.15089129084201033"
      ]
     },
     "execution_count": 6,
     "metadata": {},
     "output_type": "execute_result"
    }
   ],
   "source": [
    "volatility(UL['Settle'], 24) * 16"
   ]
  },
  {
   "cell_type": "code",
   "execution_count": 7,
   "metadata": {},
   "outputs": [],
   "source": [
    "UL['Settle'].iloc[-757:].to_clipboard()"
   ]
  },
  {
   "cell_type": "code",
   "execution_count": 8,
   "metadata": {},
   "outputs": [
    {
     "data": {
      "text/plain": [
       "0.1141114363520215"
      ]
     },
     "execution_count": 8,
     "metadata": {},
     "output_type": "execute_result"
    }
   ],
   "source": [
    "volatility(B6['Settle'], 24) * 16"
   ]
  },
  {
   "cell_type": "code",
   "execution_count": 9,
   "metadata": {},
   "outputs": [],
   "source": [
    "B6['Settle'].iloc[-757:].to_clipboard()"
   ]
  },
  {
   "cell_type": "code",
   "execution_count": 29,
   "metadata": {},
   "outputs": [
    {
     "data": {
      "text/plain": [
       "0.2489446254687319"
      ]
     },
     "execution_count": 29,
     "metadata": {},
     "output_type": "execute_result"
    }
   ],
   "source": [
    "volatility(GC['Settle'], 24) * 16"
   ]
  },
  {
   "cell_type": "code",
   "execution_count": 5,
   "metadata": {},
   "outputs": [],
   "source": [
    "GC['Settle'].iloc[-757:].to_clipboard()"
   ]
  },
  {
   "cell_type": "code",
   "execution_count": 10,
   "metadata": {},
   "outputs": [
    {
     "data": {
      "text/plain": [
       "0.20033600560189999"
      ]
     },
     "execution_count": 10,
     "metadata": {},
     "output_type": "execute_result"
    }
   ],
   "source": [
    "volatility(FDAX['Settle'], 24) * 16"
   ]
  },
  {
   "cell_type": "code",
   "execution_count": 11,
   "metadata": {},
   "outputs": [],
   "source": [
    "FDAX['Settle'].iloc[-757:].to_clipboard()"
   ]
  },
  {
   "cell_type": "code",
   "execution_count": 12,
   "metadata": {},
   "outputs": [
    {
     "data": {
      "text/plain": [
       "0.0587292237768489"
      ]
     },
     "execution_count": 12,
     "metadata": {},
     "output_type": "execute_result"
    }
   ],
   "source": [
    "volatility(FGBL['Settle'], 24) * 16"
   ]
  },
  {
   "cell_type": "code",
   "execution_count": 13,
   "metadata": {},
   "outputs": [],
   "source": [
    "FGBL['Settle'].iloc[-757:].to_clipboard()"
   ]
  },
  {
   "cell_type": "code",
   "execution_count": 32,
   "metadata": {},
   "outputs": [
    {
     "data": {
      "text/plain": [
       "0.09503938013127841"
      ]
     },
     "execution_count": 32,
     "metadata": {},
     "output_type": "execute_result"
    }
   ],
   "source": [
    "volatility(A6['Settle'], 24) * 16"
   ]
  },
  {
   "cell_type": "code",
   "execution_count": 21,
   "metadata": {},
   "outputs": [],
   "source": [
    "A6['Settle'].iloc[-757:].to_clipboard()"
   ]
  },
  {
   "cell_type": "code",
   "execution_count": 22,
   "metadata": {},
   "outputs": [
    {
     "data": {
      "text/plain": [
       "0.3658387706218662"
      ]
     },
     "execution_count": 22,
     "metadata": {},
     "output_type": "execute_result"
    }
   ],
   "source": [
    "volatility(HE['Settle'], 24) * 16"
   ]
  },
  {
   "cell_type": "code",
   "execution_count": 23,
   "metadata": {},
   "outputs": [],
   "source": [
    "HE['Settle'].iloc[-757:].to_clipboard()"
   ]
  },
  {
   "cell_type": "code",
   "execution_count": 42,
   "metadata": {},
   "outputs": [
    {
     "data": {
      "text/plain": [
       "Open                        13123.5\n",
       "High                        13159.5\n",
       "Low                         12852.0\n",
       "Settle                      12980.5\n",
       "Volume                     104047.0\n",
       "Prev. Day Open Interest     82077.0\n",
       "Name: 2020-09-08 00:00:00, dtype: float64"
      ]
     },
     "execution_count": 42,
     "metadata": {},
     "output_type": "execute_result"
    }
   ],
   "source": [
    "FDAX.iloc[-1]"
   ]
  },
  {
   "cell_type": "code",
   "execution_count": 43,
   "metadata": {},
   "outputs": [
    {
     "data": {
      "text/plain": [
       "Open                        12281.0\n",
       "High                        12418.0\n",
       "Low                         12156.0\n",
       "Settle                      12321.0\n",
       "Volume                     102639.0\n",
       "Prev. Day Open Interest     84983.0\n",
       "Name: 2020-06-19 00:00:00, dtype: float64"
      ]
     },
     "execution_count": 43,
     "metadata": {},
     "output_type": "execute_result"
    }
   ],
   "source": [
    "FDAX_2.iloc[-1]"
   ]
  },
  {
   "cell_type": "code",
   "execution_count": null,
   "metadata": {},
   "outputs": [],
   "source": [
    "F"
   ]
  }
 ],
 "metadata": {
  "kernelspec": {
   "display_name": "Python [conda env:backtrader]",
   "language": "python",
   "name": "conda-env-backtrader-py"
  },
  "language_info": {
   "codemirror_mode": {
    "name": "ipython",
    "version": 3
   },
   "file_extension": ".py",
   "mimetype": "text/x-python",
   "name": "python",
   "nbconvert_exporter": "python",
   "pygments_lexer": "ipython3",
   "version": "3.8.5"
  }
 },
 "nbformat": 4,
 "nbformat_minor": 4
}
