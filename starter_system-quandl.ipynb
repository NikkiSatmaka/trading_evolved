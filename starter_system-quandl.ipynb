{
 "cells": [
  {
   "cell_type": "markdown",
   "metadata": {},
   "source": [
    "# Research Start"
   ]
  },
  {
   "cell_type": "code",
   "execution_count": 1,
   "metadata": {},
   "outputs": [],
   "source": [
    "from datetime import datetime\n",
    "from scipy import stats\n",
    "import backtrader as bt\n",
    "# import yfinance_ez as yf\n",
    "import pandas as pd\n",
    "import numpy as np\n",
    "import matplotlib.pyplot as plt\n",
    "import matplotlib\n",
    "import matplotlib.ticker as ticker\n",
    "import os\n",
    "import quandl\n",
    "import statistics\n",
    "\n",
    "%matplotlib inline\n",
    "quandl.read_key()"
   ]
  },
  {
   "cell_type": "markdown",
   "metadata": {},
   "source": [
    "### Creating Futures Time Series"
   ]
  },
  {
   "cell_type": "code",
   "execution_count": null,
   "metadata": {},
   "outputs": [],
   "source": [
    "# contract_details = pd.read_csv('/home/nikki/downloads/continuous.csv')"
   ]
  },
  {
   "cell_type": "code",
   "execution_count": null,
   "metadata": {},
   "outputs": [],
   "source": [
    "# contract_details[contract_details['Quandl Code'] == 'CHRIS/EUREX_FDAX']"
   ]
  },
  {
   "cell_type": "code",
   "execution_count": null,
   "metadata": {},
   "outputs": [],
   "source": [
    "# NQ = quandl.get(\"CHRIS/CME_NQ1\")\n",
    "# UL = quandl.get(\"CHRIS/CME_UL1\")\n",
    "# B6 = quandl.get(\"CHRIS/CME_BP1\")\n",
    "# GC = quandl.get(\"CHRIS/CME_GC1\")\n",
    "# FDAX = quandl.get(\"CHRIS/EUREX_FDAX1\")\n",
    "# FGBL = quandl.get(\"CHRIS/EUREX_FGBL1\")\n",
    "# A6 = quandl.get(\"CHRIS/CME_AD1\")\n",
    "# HE = quandl.get(\"CHRIS/CME_LN1\")"
   ]
  },
  {
   "cell_type": "code",
   "execution_count": 2,
   "metadata": {},
   "outputs": [],
   "source": [
    "\"\"\"\n",
    "Current portfolio as of September 2020\n",
    "8 instruments\n",
    "Data currently uses continuous non-adjusted futures provided free from Quandle\n",
    "\n",
    "TODO:\n",
    "Look for ways to use back-adjusted futures data\n",
    "\"\"\"\n",
    "contracts = ['CHRIS/CME_NQ', 'CHRIS/CME_UL', 'CHRIS/CME_BP', 'CHRIS/CME_GC', 'CHRIS/EUREX_FDAX', 'CHRIS/EUREX_FGBL', 'CHRIS/CME_AD', 'CHRIS/CME_LN']"
   ]
  },
  {
   "cell_type": "code",
   "execution_count": 3,
   "metadata": {},
   "outputs": [],
   "source": [
    "\"\"\"\n",
    "Create a dictionary where the key is the ticker\n",
    "and the value is a pandas dataframe of the OHLC time series\n",
    "\"\"\"\n",
    "data_futures = {}\n",
    "for contract in contracts:\n",
    "    data_futures[contract.lower().split('/')[-1]] = quandl.get(f'{contract}1')"
   ]
  },
  {
   "cell_type": "code",
   "execution_count": 46,
   "metadata": {},
   "outputs": [],
   "source": [
    "data_futures['barchart_fdax'] = pd.read_csv('data/barchart_fdax.csv', index_col=0, parse_dates=True)\n",
    "data_futures['barchart_fgbl'] = pd.read_csv('data/barchart_fgbl.csv', index_col=0, parse_dates=True)"
   ]
  },
  {
   "cell_type": "markdown",
   "metadata": {},
   "source": [
    "## Rules Logic"
   ]
  },
  {
   "cell_type": "code",
   "execution_count": 4,
   "metadata": {},
   "outputs": [],
   "source": [
    "def volatility(ts, lookback=24):\n",
    "    \"\"\"\n",
    "    Input:  Price time series, Look back period\n",
    "    Output: Standard deviation of the percent change\n",
    "    \"\"\"\n",
    "    return ts.pct_change().rolling(lookback).std().iloc[-1]\n",
    "\n",
    "    # alternative caltulation using ewma\n",
    "#     return ts.pct_change().ewm(span=lookback).std().iloc[-1]"
   ]
  },
  {
   "cell_type": "code",
   "execution_count": 30,
   "metadata": {},
   "outputs": [],
   "source": [
    "mac_scaling = {2: 180.8,\n",
    "               4: 124.32,\n",
    "               8: 83.84,\n",
    "               16: 57.12,\n",
    "               32: 38.24,\n",
    "               64: 25.28}\n",
    "\n",
    "ewmac_scaling = {2: 10.6,\n",
    "                 4: 7.5,\n",
    "                 8: 5.3,\n",
    "                 16: 3.75,\n",
    "                 32: 2.65,\n",
    "                 64: 1.87}\n",
    "\n",
    "breakout_scaling = {10: 28.6,\n",
    "                    20: 31.6,\n",
    "                    40: 32.7,\n",
    "                    80: 33.5,\n",
    "                    160: 33.5,\n",
    "                    320: 33.5}\n",
    "\n",
    "vol_lookback = 24\n",
    "\n",
    "forecast_table = pd.DataFrame(columns=['contract', 'rule', 'forecast', 'ins_risk_pct'])\n",
    "\n",
    "for contract, timeseries_full in data_futures.items():\n",
    "    timeseries = timeseries_full['Settle']\n",
    "    ins_risk_pct = volatility(timeseries, vol_lookback) * 16\n",
    "    ins_risk_pts = ins_risk_pct * timeseries.iloc[-1]\n",
    "        \n",
    "    # MAC forecasts\n",
    "    for lookback, scaling in mac_scaling.items():\n",
    "        lookback_fast = lookback\n",
    "        lookback_slow = 4 * lookback_fast\n",
    "        ma_fast = timeseries.rolling(lookback_fast).mean().iloc[-1]\n",
    "        ma_slow = timeseries.rolling(lookback_slow).mean().iloc[-1]\n",
    "        \n",
    "        mac_raw = ma_fast - ma_slow\n",
    "        mac_risk = mac_raw / ins_risk_pts\n",
    "        mac_scaled = min(20, max(mac_risk * scaling, -20))\n",
    "        \n",
    "        forecast_table = forecast_table.append({'contract': contract,\n",
    "                                                'rule': f'mac_{lookback_fast}_{lookback_slow}',\n",
    "                                                'forecast': mac_scaled,\n",
    "                                                'ins_risk_pct': ins_risk_pct},\n",
    "                                               ignore_index=True)\n",
    "        \n",
    "    # EWMAC forecasts    \n",
    "#     for lookback, scaling in ewmac_scaling.items():\n",
    "#         lookback_fast = lookback\n",
    "#         lookback_slow = 4 * lookback_fast\n",
    "#         ewma_fast = timeseries.ewm(span=lookback_fast).mean().iloc[-1]\n",
    "#         ewma_slow = timeseries.ewm(span=lookback_slow).mean().iloc[-1]\n",
    "        \n",
    "#         ewmac_raw = ewma_fast - ewma_slow\n",
    "#         ewmac_risk = ewmac_raw / ins_risk_pts\n",
    "#         ewmac_scaled = min(20, max(ewmac_risk * scaling, -20))\n",
    "        \n",
    "#         forecast_table = forecast_table.append({'contract': contract,\n",
    "#                                                 'rule': f'ewmac_{lookback_fast}_{lookback_slow}',\n",
    "#                                                 'forecast': ewmac_scaled,\n",
    "#                                                 'ins_risk_pct': ins_risk_pct},\n",
    "#                                                ignore_index=True)\n",
    "        \n",
    "    # Breakout forecasts\n",
    "    for lookback, scaling in breakout_scaling.items():\n",
    "        rolling_max = timeseries.rolling(lookback).max().iloc[-1]\n",
    "        rolling_min = timeseries.rolling(lookback).min().iloc[-1]\n",
    "        rolling_avg = (rolling_max + rolling_min) / 2\n",
    "        breakout_raw = (timeseries.iloc[-1] - rolling_avg) / (rolling_max - rolling_min)\n",
    "        breakout_scaled = min(20, max(breakout_raw * scaling, -20))\n",
    "        \n",
    "        forecast_table = forecast_table.append({'contract': contract,\n",
    "                                                'rule': f'breakout_{lookback}',\n",
    "                                                'forecast': breakout_scaled,\n",
    "                                                'ins_risk_pct': ins_risk_pct},\n",
    "                                               ignore_index=True)"
   ]
  },
  {
   "cell_type": "code",
   "execution_count": 32,
   "metadata": {},
   "outputs": [],
   "source": [
    "forecast_table.to_clipboard()"
   ]
  },
  {
   "cell_type": "code",
   "execution_count": 7,
   "metadata": {},
   "outputs": [
    {
     "data": {
      "text/html": [
       "<div>\n",
       "<style scoped>\n",
       "    .dataframe tbody tr th:only-of-type {\n",
       "        vertical-align: middle;\n",
       "    }\n",
       "\n",
       "    .dataframe tbody tr th {\n",
       "        vertical-align: top;\n",
       "    }\n",
       "\n",
       "    .dataframe thead th {\n",
       "        text-align: right;\n",
       "    }\n",
       "</style>\n",
       "<table border=\"1\" class=\"dataframe\">\n",
       "  <thead>\n",
       "    <tr style=\"text-align: right;\">\n",
       "      <th></th>\n",
       "      <th>contract</th>\n",
       "      <th>rule</th>\n",
       "      <th>forecast</th>\n",
       "      <th>ins_risk_pct</th>\n",
       "    </tr>\n",
       "  </thead>\n",
       "  <tbody>\n",
       "    <tr>\n",
       "      <th>0</th>\n",
       "      <td>cme_nq</td>\n",
       "      <td>mac_2_8</td>\n",
       "      <td>-15.063057</td>\n",
       "      <td>0.314722</td>\n",
       "    </tr>\n",
       "    <tr>\n",
       "      <th>1</th>\n",
       "      <td>cme_nq</td>\n",
       "      <td>mac_4_16</td>\n",
       "      <td>-16.127744</td>\n",
       "      <td>0.314722</td>\n",
       "    </tr>\n",
       "    <tr>\n",
       "      <th>2</th>\n",
       "      <td>cme_nq</td>\n",
       "      <td>mac_8_32</td>\n",
       "      <td>1.280213</td>\n",
       "      <td>0.314722</td>\n",
       "    </tr>\n",
       "    <tr>\n",
       "      <th>3</th>\n",
       "      <td>cme_nq</td>\n",
       "      <td>mac_16_64</td>\n",
       "      <td>12.580285</td>\n",
       "      <td>0.314722</td>\n",
       "    </tr>\n",
       "    <tr>\n",
       "      <th>4</th>\n",
       "      <td>cme_nq</td>\n",
       "      <td>mac_32_128</td>\n",
       "      <td>17.416181</td>\n",
       "      <td>0.314722</td>\n",
       "    </tr>\n",
       "    <tr>\n",
       "      <th>...</th>\n",
       "      <td>...</td>\n",
       "      <td>...</td>\n",
       "      <td>...</td>\n",
       "      <td>...</td>\n",
       "    </tr>\n",
       "    <tr>\n",
       "      <th>91</th>\n",
       "      <td>cme_ln</td>\n",
       "      <td>breakout_20</td>\n",
       "      <td>11.732673</td>\n",
       "      <td>0.400926</td>\n",
       "    </tr>\n",
       "    <tr>\n",
       "      <th>92</th>\n",
       "      <td>cme_ln</td>\n",
       "      <td>breakout_40</td>\n",
       "      <td>12.626496</td>\n",
       "      <td>0.400926</td>\n",
       "    </tr>\n",
       "    <tr>\n",
       "      <th>93</th>\n",
       "      <td>cme_ln</td>\n",
       "      <td>breakout_80</td>\n",
       "      <td>13.849889</td>\n",
       "      <td>0.400926</td>\n",
       "    </tr>\n",
       "    <tr>\n",
       "      <th>94</th>\n",
       "      <td>cme_ln</td>\n",
       "      <td>breakout_160</td>\n",
       "      <td>12.306394</td>\n",
       "      <td>0.400926</td>\n",
       "    </tr>\n",
       "    <tr>\n",
       "      <th>95</th>\n",
       "      <td>cme_ln</td>\n",
       "      <td>breakout_320</td>\n",
       "      <td>1.828974</td>\n",
       "      <td>0.400926</td>\n",
       "    </tr>\n",
       "  </tbody>\n",
       "</table>\n",
       "<p>96 rows × 4 columns</p>\n",
       "</div>"
      ],
      "text/plain": [
       "   contract          rule   forecast  ins_risk_pct\n",
       "0    cme_nq       mac_2_8 -15.063057      0.314722\n",
       "1    cme_nq      mac_4_16 -16.127744      0.314722\n",
       "2    cme_nq      mac_8_32   1.280213      0.314722\n",
       "3    cme_nq     mac_16_64  12.580285      0.314722\n",
       "4    cme_nq    mac_32_128  17.416181      0.314722\n",
       "..      ...           ...        ...           ...\n",
       "91   cme_ln   breakout_20  11.732673      0.400926\n",
       "92   cme_ln   breakout_40  12.626496      0.400926\n",
       "93   cme_ln   breakout_80  13.849889      0.400926\n",
       "94   cme_ln  breakout_160  12.306394      0.400926\n",
       "95   cme_ln  breakout_320   1.828974      0.400926\n",
       "\n",
       "[96 rows x 4 columns]"
      ]
     },
     "execution_count": 7,
     "metadata": {},
     "output_type": "execute_result"
    }
   ],
   "source": [
    "forecast_table"
   ]
  },
  {
   "cell_type": "code",
   "execution_count": 52,
   "metadata": {},
   "outputs": [
    {
     "name": "stdout",
     "output_type": "stream",
     "text": [
      "cme_nq 2020-09-14 00:00:00\n",
      "cme_ul 2020-09-14 00:00:00\n",
      "cme_bp 2020-09-14 00:00:00\n",
      "cme_gc 2020-09-14 00:00:00\n",
      "eurex_fdax 2020-09-11 00:00:00\n",
      "eurex_fgbl 2020-09-10 00:00:00\n",
      "cme_ad 2020-09-14 00:00:00\n",
      "cme_ln 2020-09-14 00:00:00\n",
      "eurex_fdax2 2020-06-19 00:00:00\n",
      "eurex_fgbl2 2020-09-11 00:00:00\n",
      "barchart_fdax 2020-09-14 00:00:00\n",
      "barchart_fgbl 2020-09-14 00:00:00\n"
     ]
    }
   ],
   "source": [
    "for key, item in data_futures.items():\n",
    "    print(key, item.index[-1])"
   ]
  },
  {
   "cell_type": "code",
   "execution_count": null,
   "metadata": {},
   "outputs": [],
   "source": []
  }
 ],
 "metadata": {
  "kernelspec": {
   "display_name": "Python [conda env:backtrader]",
   "language": "python",
   "name": "conda-env-backtrader-py"
  },
  "language_info": {
   "codemirror_mode": {
    "name": "ipython",
    "version": 3
   },
   "file_extension": ".py",
   "mimetype": "text/x-python",
   "name": "python",
   "nbconvert_exporter": "python",
   "pygments_lexer": "ipython3",
   "version": "3.8.5"
  }
 },
 "nbformat": 4,
 "nbformat_minor": 4
}
