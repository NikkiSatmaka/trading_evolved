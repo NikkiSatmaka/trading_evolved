{
 "cells": [
  {
   "cell_type": "markdown",
   "metadata": {},
   "source": [
    "# Research Start"
   ]
  },
  {
   "cell_type": "code",
   "execution_count": 1,
   "metadata": {},
   "outputs": [],
   "source": [
    "from datetime import datetime\n",
    "from scipy import stats\n",
    "import backtrader as bt\n",
    "# import yfinance_ez as yf\n",
    "import pandas as pd\n",
    "import numpy as np\n",
    "import matplotlib.pyplot as plt\n",
    "import matplotlib\n",
    "import matplotlib.ticker as ticker\n",
    "import os\n",
    "import quandl\n",
    "\n",
    "%matplotlib inline\n",
    "quandl.read_key()"
   ]
  },
  {
   "cell_type": "markdown",
   "metadata": {},
   "source": [
    "### Creating Futures Time Series"
   ]
  },
  {
   "cell_type": "code",
   "execution_count": 2,
   "metadata": {},
   "outputs": [
    {
     "data": {
      "text/html": [
       "<div>\n",
       "<style scoped>\n",
       "    .dataframe tbody tr th:only-of-type {\n",
       "        vertical-align: middle;\n",
       "    }\n",
       "\n",
       "    .dataframe tbody tr th {\n",
       "        vertical-align: top;\n",
       "    }\n",
       "\n",
       "    .dataframe thead th {\n",
       "        text-align: right;\n",
       "    }\n",
       "</style>\n",
       "<table border=\"1\" class=\"dataframe\">\n",
       "  <thead>\n",
       "    <tr style=\"text-align: right;\">\n",
       "      <th></th>\n",
       "      <th>Open</th>\n",
       "      <th>High</th>\n",
       "      <th>Low</th>\n",
       "      <th>Settle</th>\n",
       "      <th>Volume</th>\n",
       "      <th>Prev. Day Open Interest</th>\n",
       "    </tr>\n",
       "    <tr>\n",
       "      <th>Date</th>\n",
       "      <th></th>\n",
       "      <th></th>\n",
       "      <th></th>\n",
       "      <th></th>\n",
       "      <th></th>\n",
       "      <th></th>\n",
       "    </tr>\n",
       "  </thead>\n",
       "  <tbody>\n",
       "    <tr>\n",
       "      <th>2018-06-18</th>\n",
       "      <td>0.0</td>\n",
       "      <td>0.0</td>\n",
       "      <td>0.0</td>\n",
       "      <td>12803.50</td>\n",
       "      <td>0.0</td>\n",
       "      <td>0.0</td>\n",
       "    </tr>\n",
       "    <tr>\n",
       "      <th>2018-06-19</th>\n",
       "      <td>0.0</td>\n",
       "      <td>0.0</td>\n",
       "      <td>0.0</td>\n",
       "      <td>12651.00</td>\n",
       "      <td>1.0</td>\n",
       "      <td>1.0</td>\n",
       "    </tr>\n",
       "    <tr>\n",
       "      <th>2018-06-20</th>\n",
       "      <td>0.0</td>\n",
       "      <td>0.0</td>\n",
       "      <td>0.0</td>\n",
       "      <td>12666.50</td>\n",
       "      <td>0.0</td>\n",
       "      <td>1.0</td>\n",
       "    </tr>\n",
       "    <tr>\n",
       "      <th>2018-06-21</th>\n",
       "      <td>0.0</td>\n",
       "      <td>0.0</td>\n",
       "      <td>0.0</td>\n",
       "      <td>12467.00</td>\n",
       "      <td>0.0</td>\n",
       "      <td>1.0</td>\n",
       "    </tr>\n",
       "    <tr>\n",
       "      <th>2018-06-22</th>\n",
       "      <td>0.0</td>\n",
       "      <td>0.0</td>\n",
       "      <td>0.0</td>\n",
       "      <td>12515.00</td>\n",
       "      <td>3.0</td>\n",
       "      <td>4.0</td>\n",
       "    </tr>\n",
       "    <tr>\n",
       "      <th>...</th>\n",
       "      <td>...</td>\n",
       "      <td>...</td>\n",
       "      <td>...</td>\n",
       "      <td>...</td>\n",
       "      <td>...</td>\n",
       "      <td>...</td>\n",
       "    </tr>\n",
       "    <tr>\n",
       "      <th>2019-03-11</th>\n",
       "      <td>11493.0</td>\n",
       "      <td>11597.5</td>\n",
       "      <td>11459.0</td>\n",
       "      <td>11540.00</td>\n",
       "      <td>121841.0</td>\n",
       "      <td>121088.0</td>\n",
       "    </tr>\n",
       "    <tr>\n",
       "      <th>2019-03-12</th>\n",
       "      <td>11605.5</td>\n",
       "      <td>11634.0</td>\n",
       "      <td>11496.0</td>\n",
       "      <td>11536.00</td>\n",
       "      <td>182773.0</td>\n",
       "      <td>118473.0</td>\n",
       "    </tr>\n",
       "    <tr>\n",
       "      <th>2019-03-13</th>\n",
       "      <td>11519.0</td>\n",
       "      <td>11611.5</td>\n",
       "      <td>11472.5</td>\n",
       "      <td>11577.00</td>\n",
       "      <td>120061.0</td>\n",
       "      <td>66825.0</td>\n",
       "    </tr>\n",
       "    <tr>\n",
       "      <th>2019-03-14</th>\n",
       "      <td>11605.5</td>\n",
       "      <td>11637.5</td>\n",
       "      <td>11537.5</td>\n",
       "      <td>11598.00</td>\n",
       "      <td>106064.0</td>\n",
       "      <td>43722.0</td>\n",
       "    </tr>\n",
       "    <tr>\n",
       "      <th>2019-03-15</th>\n",
       "      <td>11590.5</td>\n",
       "      <td>11720.0</td>\n",
       "      <td>11573.5</td>\n",
       "      <td>11709.85</td>\n",
       "      <td>8227.0</td>\n",
       "      <td>0.0</td>\n",
       "    </tr>\n",
       "  </tbody>\n",
       "</table>\n",
       "<p>192 rows × 6 columns</p>\n",
       "</div>"
      ],
      "text/plain": [
       "               Open     High      Low    Settle    Volume  \\\n",
       "Date                                                        \n",
       "2018-06-18      0.0      0.0      0.0  12803.50       0.0   \n",
       "2018-06-19      0.0      0.0      0.0  12651.00       1.0   \n",
       "2018-06-20      0.0      0.0      0.0  12666.50       0.0   \n",
       "2018-06-21      0.0      0.0      0.0  12467.00       0.0   \n",
       "2018-06-22      0.0      0.0      0.0  12515.00       3.0   \n",
       "...             ...      ...      ...       ...       ...   \n",
       "2019-03-11  11493.0  11597.5  11459.0  11540.00  121841.0   \n",
       "2019-03-12  11605.5  11634.0  11496.0  11536.00  182773.0   \n",
       "2019-03-13  11519.0  11611.5  11472.5  11577.00  120061.0   \n",
       "2019-03-14  11605.5  11637.5  11537.5  11598.00  106064.0   \n",
       "2019-03-15  11590.5  11720.0  11573.5  11709.85    8227.0   \n",
       "\n",
       "            Prev. Day Open Interest  \n",
       "Date                                 \n",
       "2018-06-18                      0.0  \n",
       "2018-06-19                      1.0  \n",
       "2018-06-20                      1.0  \n",
       "2018-06-21                      1.0  \n",
       "2018-06-22                      4.0  \n",
       "...                             ...  \n",
       "2019-03-11                 121088.0  \n",
       "2019-03-12                 118473.0  \n",
       "2019-03-13                  66825.0  \n",
       "2019-03-14                  43722.0  \n",
       "2019-03-15                      0.0  \n",
       "\n",
       "[192 rows x 6 columns]"
      ]
     },
     "execution_count": 2,
     "metadata": {},
     "output_type": "execute_result"
    }
   ],
   "source": [
    "quandl.get(\"EUREX/FDAXH2019\")"
   ]
  },
  {
   "cell_type": "code",
   "execution_count": 4,
   "metadata": {},
   "outputs": [],
   "source": [
    "NQ = quandl.get(\"CHRIS/CME_NQ1\")\n",
    "UL = quandl.get(\"CHRIS/CME_UL1\")\n",
    "B6 = quandl.get(\"CHRIS/CME_BP1\")\n",
    "GC = quandl.get(\"CHRIS/CME_GC1\")\n",
    "FDAX = quandl.get(\"CHRIS/EUREX_FDAX1\")\n",
    "FGBL = quandl.get(\"CHRIS/EUREX_FGBL1\")\n",
    "A6 = quandl.get(\"CHRIS/CME_AD1\")\n",
    "HE = quandl.get(\"CHRIS/CME_LN1\")"
   ]
  },
  {
   "cell_type": "code",
   "execution_count": 5,
   "metadata": {},
   "outputs": [],
   "source": [
    "def volatility(ts, period=24):\n",
    "    \"\"\"\n",
    "    Input:  Price time series, Look back period\n",
    "    Output: Standard deviation of the percent change\n",
    "    \"\"\"\n",
    "    return ts.pct_change().rolling(period).std().iloc[-1]"
   ]
  },
  {
   "cell_type": "code",
   "execution_count": 12,
   "metadata": {},
   "outputs": [
    {
     "data": {
      "text/plain": [
       "0.0191461903015407"
      ]
     },
     "execution_count": 12,
     "metadata": {},
     "output_type": "execute_result"
    }
   ],
   "source": [
    "volatility(NQ['Settle'], 24) * 16"
   ]
  },
  {
   "cell_type": "code",
   "execution_count": 5,
   "metadata": {},
   "outputs": [],
   "source": [
    "NQ['Settle'].iloc[-757:].to_clipboard()"
   ]
  },
  {
   "cell_type": "code",
   "execution_count": 6,
   "metadata": {},
   "outputs": [
    {
     "data": {
      "text/plain": [
       "0.15089129084201033"
      ]
     },
     "execution_count": 6,
     "metadata": {},
     "output_type": "execute_result"
    }
   ],
   "source": [
    "volatility(UL['Settle'], 24) * 16"
   ]
  },
  {
   "cell_type": "code",
   "execution_count": 7,
   "metadata": {},
   "outputs": [],
   "source": [
    "UL['Settle'].iloc[-757:].to_clipboard()"
   ]
  },
  {
   "cell_type": "code",
   "execution_count": 8,
   "metadata": {},
   "outputs": [
    {
     "data": {
      "text/plain": [
       "0.1141114363520215"
      ]
     },
     "execution_count": 8,
     "metadata": {},
     "output_type": "execute_result"
    }
   ],
   "source": [
    "volatility(B6['Settle'], 24) * 16"
   ]
  },
  {
   "cell_type": "code",
   "execution_count": 9,
   "metadata": {},
   "outputs": [],
   "source": [
    "B6['Settle'].iloc[-757:].to_clipboard()"
   ]
  },
  {
   "cell_type": "code",
   "execution_count": 6,
   "metadata": {},
   "outputs": [
    {
     "data": {
      "text/plain": [
       "0.24414172663946615"
      ]
     },
     "execution_count": 6,
     "metadata": {},
     "output_type": "execute_result"
    }
   ],
   "source": [
    "volatility(GC['Settle'], 24) * 16"
   ]
  },
  {
   "cell_type": "code",
   "execution_count": 7,
   "metadata": {},
   "outputs": [],
   "source": [
    "GC['Settle'].iloc[-757:].to_clipboard()"
   ]
  },
  {
   "cell_type": "code",
   "execution_count": 10,
   "metadata": {},
   "outputs": [
    {
     "data": {
      "text/plain": [
       "0.20033600560189999"
      ]
     },
     "execution_count": 10,
     "metadata": {},
     "output_type": "execute_result"
    }
   ],
   "source": [
    "volatility(FDAX['Settle'], 24) * 16"
   ]
  },
  {
   "cell_type": "code",
   "execution_count": 11,
   "metadata": {},
   "outputs": [],
   "source": [
    "FDAX['Settle'].iloc[-757:].to_clipboard()"
   ]
  },
  {
   "cell_type": "code",
   "execution_count": 14,
   "metadata": {},
   "outputs": [
    {
     "data": {
      "text/plain": [
       "0.0587292237768489"
      ]
     },
     "execution_count": 14,
     "metadata": {},
     "output_type": "execute_result"
    }
   ],
   "source": [
    "volatility(FGBL['Settle'], 24) * 16"
   ]
  },
  {
   "cell_type": "code",
   "execution_count": 13,
   "metadata": {},
   "outputs": [],
   "source": [
    "FGBL['Settle'].iloc[-757:].to_clipboard()"
   ]
  },
  {
   "cell_type": "code",
   "execution_count": 8,
   "metadata": {},
   "outputs": [
    {
     "data": {
      "text/plain": [
       "0.09674108383649695"
      ]
     },
     "execution_count": 8,
     "metadata": {},
     "output_type": "execute_result"
    }
   ],
   "source": [
    "volatility(A6['Settle'], 24) * 16"
   ]
  },
  {
   "cell_type": "code",
   "execution_count": 9,
   "metadata": {},
   "outputs": [],
   "source": [
    "A6['Settle'].iloc[-757:].to_clipboard()"
   ]
  },
  {
   "cell_type": "code",
   "execution_count": 10,
   "metadata": {},
   "outputs": [
    {
     "data": {
      "text/plain": [
       "0.3668497893930322"
      ]
     },
     "execution_count": 10,
     "metadata": {},
     "output_type": "execute_result"
    }
   ],
   "source": [
    "volatility(HE['Settle'], 24) * 16"
   ]
  },
  {
   "cell_type": "code",
   "execution_count": 11,
   "metadata": {},
   "outputs": [],
   "source": [
    "HE['Settle'].iloc[-757:].to_clipboard()"
   ]
  },
  {
   "cell_type": "code",
   "execution_count": 20,
   "metadata": {},
   "outputs": [],
   "source": [
    "test = pd.read_csv('/home/nikki/downloads/FGBL.csv', index_col=0, parse_dates=True)"
   ]
  },
  {
   "cell_type": "code",
   "execution_count": 31,
   "metadata": {},
   "outputs": [],
   "source": [
    "test[' Last'].iloc[-757:].to_clipboard()"
   ]
  },
  {
   "cell_type": "code",
   "execution_count": 17,
   "metadata": {},
   "outputs": [
    {
     "data": {
      "text/plain": [
       "Date\n",
       "2020-09-03    177.07\n",
       "2020-09-04    176.78\n",
       "2020-09-07    176.52\n",
       "2020-09-08    174.25\n",
       "2020-09-09    173.68\n",
       "Name: Settle, dtype: float64"
      ]
     },
     "execution_count": 17,
     "metadata": {},
     "output_type": "execute_result"
    }
   ],
   "source": [
    "FGBL['Settle'].tail(5)"
   ]
  }
 ],
 "metadata": {
  "kernelspec": {
   "display_name": "Python [conda env:backtrader]",
   "language": "python",
   "name": "conda-env-backtrader-py"
  },
  "language_info": {
   "codemirror_mode": {
    "name": "ipython",
    "version": 3
   },
   "file_extension": ".py",
   "mimetype": "text/x-python",
   "name": "python",
   "nbconvert_exporter": "python",
   "pygments_lexer": "ipython3",
   "version": "3.8.5"
  }
 },
 "nbformat": 4,
 "nbformat_minor": 4
}
