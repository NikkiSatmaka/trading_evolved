{
 "cells": [
  {
   "cell_type": "code",
   "execution_count": 1,
   "metadata": {},
   "outputs": [],
   "source": [
    "%matplotlib inline\n",
    "\n",
    "import pandas as pd\n",
    "import numpy as np"
   ]
  },
  {
   "cell_type": "code",
   "execution_count": 2,
   "metadata": {},
   "outputs": [],
   "source": [
    "data = pd.read_csv('Trading Evolved/Chapter 6 Pandas/sp500.csv', index_col='Date', parse_dates=['Date'])"
   ]
  },
  {
   "cell_type": "code",
   "execution_count": 3,
   "metadata": {},
   "outputs": [
    {
     "data": {
      "text/html": [
       "<div>\n",
       "<style scoped>\n",
       "    .dataframe tbody tr th:only-of-type {\n",
       "        vertical-align: middle;\n",
       "    }\n",
       "\n",
       "    .dataframe tbody tr th {\n",
       "        vertical-align: top;\n",
       "    }\n",
       "\n",
       "    .dataframe thead th {\n",
       "        text-align: right;\n",
       "    }\n",
       "</style>\n",
       "<table border=\"1\" class=\"dataframe\">\n",
       "  <thead>\n",
       "    <tr style=\"text-align: right;\">\n",
       "      <th></th>\n",
       "      <th>SP500</th>\n",
       "    </tr>\n",
       "    <tr>\n",
       "      <th>Date</th>\n",
       "      <th></th>\n",
       "    </tr>\n",
       "  </thead>\n",
       "  <tbody>\n",
       "    <tr>\n",
       "      <th>2018-07-20</th>\n",
       "      <td>2801.83</td>\n",
       "    </tr>\n",
       "    <tr>\n",
       "      <th>2018-07-23</th>\n",
       "      <td>2806.98</td>\n",
       "    </tr>\n",
       "    <tr>\n",
       "      <th>2018-07-24</th>\n",
       "      <td>2820.40</td>\n",
       "    </tr>\n",
       "    <tr>\n",
       "      <th>2018-07-25</th>\n",
       "      <td>2846.07</td>\n",
       "    </tr>\n",
       "    <tr>\n",
       "      <th>2018-07-26</th>\n",
       "      <td>2837.44</td>\n",
       "    </tr>\n",
       "    <tr>\n",
       "      <th>2018-07-27</th>\n",
       "      <td>2818.82</td>\n",
       "    </tr>\n",
       "    <tr>\n",
       "      <th>2018-07-30</th>\n",
       "      <td>2802.60</td>\n",
       "    </tr>\n",
       "    <tr>\n",
       "      <th>2018-07-31</th>\n",
       "      <td>2816.29</td>\n",
       "    </tr>\n",
       "    <tr>\n",
       "      <th>2018-08-01</th>\n",
       "      <td>2813.36</td>\n",
       "    </tr>\n",
       "    <tr>\n",
       "      <th>2018-08-02</th>\n",
       "      <td>2827.22</td>\n",
       "    </tr>\n",
       "  </tbody>\n",
       "</table>\n",
       "</div>"
      ],
      "text/plain": [
       "              SP500\n",
       "Date               \n",
       "2018-07-20  2801.83\n",
       "2018-07-23  2806.98\n",
       "2018-07-24  2820.40\n",
       "2018-07-25  2846.07\n",
       "2018-07-26  2837.44\n",
       "2018-07-27  2818.82\n",
       "2018-07-30  2802.60\n",
       "2018-07-31  2816.29\n",
       "2018-08-01  2813.36\n",
       "2018-08-02  2827.22"
      ]
     },
     "execution_count": 3,
     "metadata": {},
     "output_type": "execute_result"
    }
   ],
   "source": [
    "data.tail(10)"
   ]
  },
  {
   "cell_type": "code",
   "execution_count": 4,
   "metadata": {},
   "outputs": [],
   "source": [
    "# SMA using pandas\n",
    "data['SMA50'] = data['SP500'].rolling(50).mean()\n",
    "data['SMA100'] = data['SP500'].rolling(100).mean()"
   ]
  },
  {
   "cell_type": "code",
   "execution_count": 5,
   "metadata": {},
   "outputs": [],
   "source": [
    "# Set position\n",
    "# If SMA50 > SMA100, position = 1 and we go long\n",
    "# Else, position = 0 and we do not hold a position\n",
    "data['Position'] = np.where(data['SMA50'] > data['SMA100'], 1, 0)"
   ]
  },
  {
   "cell_type": "code",
   "execution_count": 6,
   "metadata": {},
   "outputs": [],
   "source": [
    "# Position reflects the previous condition of the crossover\n",
    "data['Position'] = data['Position'].shift()"
   ]
  },
  {
   "cell_type": "code",
   "execution_count": 7,
   "metadata": {},
   "outputs": [],
   "source": [
    "# Percent change times the position\n",
    "data['StrategyPct'] = data['SP500'].pct_change(1) * data['Position']"
   ]
  },
  {
   "cell_type": "code",
   "execution_count": 8,
   "metadata": {},
   "outputs": [],
   "source": [
    "# Cumulative percent change\n",
    "data['Strategy'] = (data['StrategyPct'] + 1).cumprod()"
   ]
  },
  {
   "cell_type": "code",
   "execution_count": 9,
   "metadata": {},
   "outputs": [],
   "source": [
    "# Cumulative percent change for buy and hold strategy\n",
    "data['BuyHold'] = (data['SP500'].pct_change(1) + 1).cumprod()"
   ]
  },
  {
   "cell_type": "code",
   "execution_count": 10,
   "metadata": {},
   "outputs": [
    {
     "data": {
      "text/plain": [
       "<matplotlib.axes._subplots.AxesSubplot at 0x7ff580481710>"
      ]
     },
     "execution_count": 10,
     "metadata": {},
     "output_type": "execute_result"
    },
    {
     "data": {
      "image/png": "[encoded data removed]",
      "text/plain": [
       "<Figure size 432x288 with 1 Axes>"
      ]
     },
     "metadata": {
      "needs_background": "light"
     },
     "output_type": "display_data"
    }
   ],
   "source": [
    "data[['Strategy', 'BuyHold']].plot()"
   ]
  },
  {
   "cell_type": "code",
   "execution_count": 11,
   "metadata": {},
   "outputs": [
    {
     "data": {
      "text/html": [
       "<div>\n",
       "<style scoped>\n",
       "    .dataframe tbody tr th:only-of-type {\n",
       "        vertical-align: middle;\n",
       "    }\n",
       "\n",
       "    .dataframe tbody tr th {\n",
       "        vertical-align: top;\n",
       "    }\n",
       "\n",
       "    .dataframe thead th {\n",
       "        text-align: right;\n",
       "    }\n",
       "</style>\n",
       "<table border=\"1\" class=\"dataframe\">\n",
       "  <thead>\n",
       "    <tr style=\"text-align: right;\">\n",
       "      <th></th>\n",
       "      <th>SP500</th>\n",
       "      <th>SMA50</th>\n",
       "      <th>SMA100</th>\n",
       "      <th>Position</th>\n",
       "      <th>StrategyPct</th>\n",
       "      <th>Strategy</th>\n",
       "      <th>BuyHold</th>\n",
       "    </tr>\n",
       "    <tr>\n",
       "      <th>Date</th>\n",
       "      <th></th>\n",
       "      <th></th>\n",
       "      <th></th>\n",
       "      <th></th>\n",
       "      <th></th>\n",
       "      <th></th>\n",
       "      <th></th>\n",
       "    </tr>\n",
       "  </thead>\n",
       "  <tbody>\n",
       "    <tr>\n",
       "      <th>2018-07-20</th>\n",
       "      <td>2801.83</td>\n",
       "      <td>2751.3244</td>\n",
       "      <td>2713.9039</td>\n",
       "      <td>1.0</td>\n",
       "      <td>-0.000948</td>\n",
       "      <td>1.905794</td>\n",
       "      <td>3.130187</td>\n",
       "    </tr>\n",
       "    <tr>\n",
       "      <th>2018-07-23</th>\n",
       "      <td>2806.98</td>\n",
       "      <td>2753.0026</td>\n",
       "      <td>2714.8354</td>\n",
       "      <td>1.0</td>\n",
       "      <td>0.001838</td>\n",
       "      <td>1.909297</td>\n",
       "      <td>3.135940</td>\n",
       "    </tr>\n",
       "    <tr>\n",
       "      <th>2018-07-24</th>\n",
       "      <td>2820.40</td>\n",
       "      <td>2754.8562</td>\n",
       "      <td>2716.2627</td>\n",
       "      <td>1.0</td>\n",
       "      <td>0.004781</td>\n",
       "      <td>1.918425</td>\n",
       "      <td>3.150933</td>\n",
       "    </tr>\n",
       "    <tr>\n",
       "      <th>2018-07-25</th>\n",
       "      <td>2846.07</td>\n",
       "      <td>2757.1750</td>\n",
       "      <td>2717.8109</td>\n",
       "      <td>1.0</td>\n",
       "      <td>0.009102</td>\n",
       "      <td>1.935886</td>\n",
       "      <td>3.179611</td>\n",
       "    </tr>\n",
       "    <tr>\n",
       "      <th>2018-07-26</th>\n",
       "      <td>2837.44</td>\n",
       "      <td>2759.6948</td>\n",
       "      <td>2718.9759</td>\n",
       "      <td>1.0</td>\n",
       "      <td>-0.003032</td>\n",
       "      <td>1.930015</td>\n",
       "      <td>3.169970</td>\n",
       "    </tr>\n",
       "    <tr>\n",
       "      <th>2018-07-27</th>\n",
       "      <td>2818.82</td>\n",
       "      <td>2761.6220</td>\n",
       "      <td>2719.8829</td>\n",
       "      <td>1.0</td>\n",
       "      <td>-0.006562</td>\n",
       "      <td>1.917350</td>\n",
       "      <td>3.149168</td>\n",
       "    </tr>\n",
       "    <tr>\n",
       "      <th>2018-07-30</th>\n",
       "      <td>2802.60</td>\n",
       "      <td>2763.2714</td>\n",
       "      <td>2720.6409</td>\n",
       "      <td>1.0</td>\n",
       "      <td>-0.005754</td>\n",
       "      <td>1.906317</td>\n",
       "      <td>3.131047</td>\n",
       "    </tr>\n",
       "    <tr>\n",
       "      <th>2018-07-31</th>\n",
       "      <td>2816.29</td>\n",
       "      <td>2765.3378</td>\n",
       "      <td>2721.4141</td>\n",
       "      <td>1.0</td>\n",
       "      <td>0.004885</td>\n",
       "      <td>1.915629</td>\n",
       "      <td>3.146341</td>\n",
       "    </tr>\n",
       "    <tr>\n",
       "      <th>2018-08-01</th>\n",
       "      <td>2813.36</td>\n",
       "      <td>2766.9448</td>\n",
       "      <td>2721.6820</td>\n",
       "      <td>1.0</td>\n",
       "      <td>-0.001040</td>\n",
       "      <td>1.913636</td>\n",
       "      <td>3.143068</td>\n",
       "    </tr>\n",
       "    <tr>\n",
       "      <th>2018-08-02</th>\n",
       "      <td>2827.22</td>\n",
       "      <td>2769.0004</td>\n",
       "      <td>2722.1240</td>\n",
       "      <td>1.0</td>\n",
       "      <td>0.004926</td>\n",
       "      <td>1.923064</td>\n",
       "      <td>3.158552</td>\n",
       "    </tr>\n",
       "  </tbody>\n",
       "</table>\n",
       "</div>"
      ],
      "text/plain": [
       "              SP500      SMA50     SMA100  Position  StrategyPct  Strategy  \\\n",
       "Date                                                                         \n",
       "2018-07-20  2801.83  2751.3244  2713.9039       1.0    -0.000948  1.905794   \n",
       "2018-07-23  2806.98  2753.0026  2714.8354       1.0     0.001838  1.909297   \n",
       "2018-07-24  2820.40  2754.8562  2716.2627       1.0     0.004781  1.918425   \n",
       "2018-07-25  2846.07  2757.1750  2717.8109       1.0     0.009102  1.935886   \n",
       "2018-07-26  2837.44  2759.6948  2718.9759       1.0    -0.003032  1.930015   \n",
       "2018-07-27  2818.82  2761.6220  2719.8829       1.0    -0.006562  1.917350   \n",
       "2018-07-30  2802.60  2763.2714  2720.6409       1.0    -0.005754  1.906317   \n",
       "2018-07-31  2816.29  2765.3378  2721.4141       1.0     0.004885  1.915629   \n",
       "2018-08-01  2813.36  2766.9448  2721.6820       1.0    -0.001040  1.913636   \n",
       "2018-08-02  2827.22  2769.0004  2722.1240       1.0     0.004926  1.923064   \n",
       "\n",
       "             BuyHold  \n",
       "Date                  \n",
       "2018-07-20  3.130187  \n",
       "2018-07-23  3.135940  \n",
       "2018-07-24  3.150933  \n",
       "2018-07-25  3.179611  \n",
       "2018-07-26  3.169970  \n",
       "2018-07-27  3.149168  \n",
       "2018-07-30  3.131047  \n",
       "2018-07-31  3.146341  \n",
       "2018-08-01  3.143068  \n",
       "2018-08-02  3.158552  "
      ]
     },
     "execution_count": 11,
     "metadata": {},
     "output_type": "execute_result"
    }
   ],
   "source": [
    "data.tail(10)"
   ]
  }
 ],
 "metadata": {
  "kernelspec": {
   "display_name": "Python 3",
   "language": "python",
   "name": "python3"
  },
  "language_info": {
   "codemirror_mode": {
    "name": "ipython",
    "version": 3
   },
   "file_extension": ".py",
   "mimetype": "text/x-python",
   "name": "python",
   "nbconvert_exporter": "python",
   "pygments_lexer": "ipython3",
   "version": "3.6.10"
  }
 },
 "nbformat": 4,
 "nbformat_minor": 4
}
