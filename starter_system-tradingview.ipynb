{
 "cells": [
  {
   "cell_type": "markdown",
   "metadata": {},
   "source": [
    "# Research Start"
   ]
  },
  {
   "cell_type": "code",
   "execution_count": null,
   "metadata": {},
   "outputs": [],
   "source": [
    "from datetime import datetime\n",
    "from scipy import stats\n",
    "import backtrader as bt\n",
    "# import yfinance_ez as yf\n",
    "import pandas as pd\n",
    "import numpy as np\n",
    "import matplotlib.pyplot as plt\n",
    "import matplotlib\n",
    "import matplotlib.ticker as ticker\n",
    "# import fxcmpy\n",
    "import os\n",
    "\n",
    "%matplotlib inline"
   ]
  },
  {
   "cell_type": "markdown",
   "metadata": {},
   "source": [
    "### Creating Futures Time Series"
   ]
  },
  {
   "cell_type": "code",
   "execution_count": 2,
   "metadata": {},
   "outputs": [],
   "source": [
    "# Location of the tradingview futures continuous csv files\n",
    "# csv_loc = 'data/tv_futures'\n",
    "csv_loc = 'data/tv_futures_daily'\n",
    "\n",
    "tickers = os.listdir(csv_loc)"
   ]
  },
  {
   "cell_type": "code",
   "execution_count": 3,
   "metadata": {},
   "outputs": [],
   "source": [
    "\"\"\"\n",
    "Create a dictionary where the key is the ticker\n",
    "and the value is a pandas dataframe of the OHLC time series\n",
    "\"\"\"\n",
    "data_tv = {}\n",
    "for file in tickers:\n",
    "    ticker = file.split('_')[-1].split()[0][:-3]\n",
    "    exchange = file.split('_')[0]\n",
    "    data_tv[ticker] = pd.read_csv(f'{csv_loc}/{file}',\n",
    "                                        index_col=0,\n",
    "                                        usecols=[0, 4],\n",
    "                                        parse_dates=[0],\n",
    "                                        date_parser=lambda col: pd.to_datetime(col, unit='s'))\n",
    "\n",
    "# Comment out on Saturdays\n",
    "for key, item in data_tv.items():\n",
    "    item.drop(item.tail(1).index, inplace=True)"
   ]
  },
  {
   "cell_type": "code",
   "execution_count": 4,
   "metadata": {},
   "outputs": [
    {
     "data": {
      "text/plain": [
       "dict_keys(['HE', 'UB', 'FDAX', '6B', 'NQ', 'GC', 'FGBL', '6A'])"
      ]
     },
     "execution_count": 4,
     "metadata": {},
     "output_type": "execute_result"
    }
   ],
   "source": [
    "data_tv.keys()"
   ]
  },
  {
   "cell_type": "code",
   "execution_count": 5,
   "metadata": {},
   "outputs": [
    {
     "data": {
      "text/html": [
       "<div>\n",
       "<style scoped>\n",
       "    .dataframe tbody tr th:only-of-type {\n",
       "        vertical-align: middle;\n",
       "    }\n",
       "\n",
       "    .dataframe tbody tr th {\n",
       "        vertical-align: top;\n",
       "    }\n",
       "\n",
       "    .dataframe thead th {\n",
       "        text-align: right;\n",
       "    }\n",
       "</style>\n",
       "<table border=\"1\" class=\"dataframe\">\n",
       "  <thead>\n",
       "    <tr style=\"text-align: right;\">\n",
       "      <th></th>\n",
       "      <th>close</th>\n",
       "    </tr>\n",
       "    <tr>\n",
       "      <th>time</th>\n",
       "      <th></th>\n",
       "    </tr>\n",
       "  </thead>\n",
       "  <tbody>\n",
       "    <tr>\n",
       "      <th>2020-08-31 22:00:00</th>\n",
       "      <td>12312.50</td>\n",
       "    </tr>\n",
       "    <tr>\n",
       "      <th>2020-09-01 22:00:00</th>\n",
       "      <td>12411.50</td>\n",
       "    </tr>\n",
       "    <tr>\n",
       "      <th>2020-09-02 22:00:00</th>\n",
       "      <td>11800.50</td>\n",
       "    </tr>\n",
       "    <tr>\n",
       "      <th>2020-09-03 22:00:00</th>\n",
       "      <td>11548.75</td>\n",
       "    </tr>\n",
       "    <tr>\n",
       "      <th>2020-09-07 22:00:00</th>\n",
       "      <td>11060.50</td>\n",
       "    </tr>\n",
       "  </tbody>\n",
       "</table>\n",
       "</div>"
      ],
      "text/plain": [
       "                        close\n",
       "time                         \n",
       "2020-08-31 22:00:00  12312.50\n",
       "2020-09-01 22:00:00  12411.50\n",
       "2020-09-02 22:00:00  11800.50\n",
       "2020-09-03 22:00:00  11548.75\n",
       "2020-09-07 22:00:00  11060.50"
      ]
     },
     "execution_count": 5,
     "metadata": {},
     "output_type": "execute_result"
    }
   ],
   "source": [
    "data_tv['NQ'].tail(5)"
   ]
  },
  {
   "cell_type": "code",
   "execution_count": 6,
   "metadata": {},
   "outputs": [],
   "source": [
    "def volatility(ts, period=24):\n",
    "    \"\"\"\n",
    "    Input:  Price time series, Look back period\n",
    "    Output: Standard deviation of the percent change\n",
    "    \"\"\"\n",
    "    return ts.pct_change().rolling(period).std().iloc[-1]"
   ]
  },
  {
   "cell_type": "code",
   "execution_count": 7,
   "metadata": {},
   "outputs": [],
   "source": [
    "# Create an empty DataFrame to store score\n",
    "ins_risk_table = pd.DataFrame(columns=['ticker', 'last_date', 'ins_risk'])\n",
    "\n",
    "# How many (series) candles back for std dev calculation?\n",
    "vola_window = 24\n",
    "\n",
    "# Loop the dictionary and calculate the momentum_score, then append it to pandas\n",
    "for ticker, timeseries in data_tv.items():\n",
    "    ins_risk = volatility(timeseries['close'], vola_window) * 16\n",
    "    last_date = timeseries.index[-1]\n",
    "    ins_risk_table = ins_risk_table.append({'ticker': ticker,\n",
    "                                            'last_date': last_date,\n",
    "                                            'ins_risk': ins_risk},\n",
    "                                           ignore_index=True)"
   ]
  },
  {
   "cell_type": "code",
   "execution_count": 8,
   "metadata": {},
   "outputs": [
    {
     "data": {
      "text/html": [
       "<div>\n",
       "<style scoped>\n",
       "    .dataframe tbody tr th:only-of-type {\n",
       "        vertical-align: middle;\n",
       "    }\n",
       "\n",
       "    .dataframe tbody tr th {\n",
       "        vertical-align: top;\n",
       "    }\n",
       "\n",
       "    .dataframe thead th {\n",
       "        text-align: right;\n",
       "    }\n",
       "</style>\n",
       "<table border=\"1\" class=\"dataframe\">\n",
       "  <thead>\n",
       "    <tr style=\"text-align: right;\">\n",
       "      <th></th>\n",
       "      <th>ticker</th>\n",
       "      <th>last_date</th>\n",
       "      <th>ins_risk</th>\n",
       "    </tr>\n",
       "  </thead>\n",
       "  <tbody>\n",
       "    <tr>\n",
       "      <th>7</th>\n",
       "      <td>6A</td>\n",
       "      <td>2020-09-07 22:00:00</td>\n",
       "      <td>0.095039</td>\n",
       "    </tr>\n",
       "    <tr>\n",
       "      <th>3</th>\n",
       "      <td>6B</td>\n",
       "      <td>2020-09-07 22:00:00</td>\n",
       "      <td>0.115260</td>\n",
       "    </tr>\n",
       "    <tr>\n",
       "      <th>2</th>\n",
       "      <td>FDAX</td>\n",
       "      <td>2020-09-08 06:00:00</td>\n",
       "      <td>0.190778</td>\n",
       "    </tr>\n",
       "    <tr>\n",
       "      <th>6</th>\n",
       "      <td>FGBL</td>\n",
       "      <td>2020-09-08 06:00:00</td>\n",
       "      <td>0.071606</td>\n",
       "    </tr>\n",
       "    <tr>\n",
       "      <th>5</th>\n",
       "      <td>GC</td>\n",
       "      <td>2020-09-07 22:00:00</td>\n",
       "      <td>0.247845</td>\n",
       "    </tr>\n",
       "    <tr>\n",
       "      <th>0</th>\n",
       "      <td>HE</td>\n",
       "      <td>2020-09-07 13:30:00</td>\n",
       "      <td>0.414549</td>\n",
       "    </tr>\n",
       "    <tr>\n",
       "      <th>4</th>\n",
       "      <td>NQ</td>\n",
       "      <td>2020-09-07 22:00:00</td>\n",
       "      <td>0.290257</td>\n",
       "    </tr>\n",
       "    <tr>\n",
       "      <th>1</th>\n",
       "      <td>UB</td>\n",
       "      <td>2020-09-07 22:00:00</td>\n",
       "      <td>0.164789</td>\n",
       "    </tr>\n",
       "  </tbody>\n",
       "</table>\n",
       "</div>"
      ],
      "text/plain": [
       "  ticker           last_date  ins_risk\n",
       "7     6A 2020-09-07 22:00:00  0.095039\n",
       "3     6B 2020-09-07 22:00:00  0.115260\n",
       "2   FDAX 2020-09-08 06:00:00  0.190778\n",
       "6   FGBL 2020-09-08 06:00:00  0.071606\n",
       "5     GC 2020-09-07 22:00:00  0.247845\n",
       "0     HE 2020-09-07 13:30:00  0.414549\n",
       "4     NQ 2020-09-07 22:00:00  0.290257\n",
       "1     UB 2020-09-07 22:00:00  0.164789"
      ]
     },
     "execution_count": 8,
     "metadata": {},
     "output_type": "execute_result"
    }
   ],
   "source": [
    "ins_risk_table.sort_values('ticker').to_clipboard()\n",
    "ins_risk_table.sort_values('ticker')"
   ]
  },
  {
   "cell_type": "code",
   "execution_count": 9,
   "metadata": {},
   "outputs": [
    {
     "data": {
      "text/plain": [
       "1031"
      ]
     },
     "execution_count": 9,
     "metadata": {},
     "output_type": "execute_result"
    }
   ],
   "source": [
    "data_tv['NQ']['close'].iloc[-757:].to_clipboard()\n",
    "# data_tv['NQ'].tail(1).index\n",
    "len(data_tv['NQ'])"
   ]
  },
  {
   "cell_type": "code",
   "execution_count": 10,
   "metadata": {},
   "outputs": [
    {
     "data": {
      "text/plain": [
       "time\n",
       "2017-09-06 22:00:00     5970.00\n",
       "2017-09-07 22:00:00     5924.50\n",
       "2017-09-10 22:00:00     5990.75\n",
       "2017-09-11 22:00:00     6004.50\n",
       "2017-09-12 22:00:00     6009.00\n",
       "                         ...   \n",
       "2020-08-31 22:00:00    12312.50\n",
       "2020-09-01 22:00:00    12411.50\n",
       "2020-09-02 22:00:00    11800.50\n",
       "2020-09-03 22:00:00    11548.75\n",
       "2020-09-07 22:00:00    11060.50\n",
       "Name: close, Length: 757, dtype: float64"
      ]
     },
     "execution_count": 10,
     "metadata": {},
     "output_type": "execute_result"
    }
   ],
   "source": [
    "data_tv['NQ']['close'].iloc[-757:]"
   ]
  },
  {
   "cell_type": "code",
   "execution_count": 9,
   "metadata": {},
   "outputs": [
    {
     "data": {
      "text/plain": [
       "1281"
      ]
     },
     "execution_count": 9,
     "metadata": {},
     "output_type": "execute_result"
    }
   ],
   "source": [
    "data_tv['UB']['close'].iloc[-757:].to_clipboard()\n",
    "len(data_tv['UB'])"
   ]
  },
  {
   "cell_type": "code",
   "execution_count": 10,
   "metadata": {},
   "outputs": [
    {
     "data": {
      "text/plain": [
       "time\n",
       "2020-08-31 22:00:00    222.15625\n",
       "2020-09-01 22:00:00    224.37500\n",
       "2020-09-02 22:00:00    225.90625\n",
       "2020-09-03 22:00:00    220.21875\n",
       "2020-09-07 22:00:00    222.46875\n",
       "Name: close, dtype: float64"
      ]
     },
     "execution_count": 10,
     "metadata": {},
     "output_type": "execute_result"
    }
   ],
   "source": [
    "data_tv['UB']['close'].tail(5)"
   ]
  },
  {
   "cell_type": "code",
   "execution_count": 10,
   "metadata": {},
   "outputs": [
    {
     "data": {
      "text/plain": [
       "1281"
      ]
     },
     "execution_count": 10,
     "metadata": {},
     "output_type": "execute_result"
    }
   ],
   "source": [
    "data_tv['6B']['close'].iloc[-757:].to_clipboard()\n",
    "len(data_tv['6B'])"
   ]
  },
  {
   "cell_type": "code",
   "execution_count": 11,
   "metadata": {},
   "outputs": [
    {
     "data": {
      "text/plain": [
       "1287"
      ]
     },
     "execution_count": 11,
     "metadata": {},
     "output_type": "execute_result"
    }
   ],
   "source": [
    "data_tv['GC']['close'].iloc[-757:].to_clipboard()\n",
    "len(data_tv['GC'])"
   ]
  },
  {
   "cell_type": "code",
   "execution_count": 16,
   "metadata": {},
   "outputs": [
    {
     "data": {
      "text/plain": [
       "1023"
      ]
     },
     "execution_count": 16,
     "metadata": {},
     "output_type": "execute_result"
    }
   ],
   "source": [
    "data_tv['FDAX']['close'].iloc[-757:].to_clipboard()\n",
    "len(data_tv['FDAX'])"
   ]
  },
  {
   "cell_type": "code",
   "execution_count": 18,
   "metadata": {},
   "outputs": [
    {
     "data": {
      "text/plain": [
       "1023"
      ]
     },
     "execution_count": 18,
     "metadata": {},
     "output_type": "execute_result"
    }
   ],
   "source": [
    "data_tv['FGBL']['close'].iloc[-757:].to_clipboard()\n",
    "len(data_tv['FGBL'])"
   ]
  },
  {
   "cell_type": "code",
   "execution_count": 14,
   "metadata": {},
   "outputs": [
    {
     "data": {
      "text/plain": [
       "1281"
      ]
     },
     "execution_count": 14,
     "metadata": {},
     "output_type": "execute_result"
    }
   ],
   "source": [
    "data_tv['6A']['close'].iloc[-757:].to_clipboard()\n",
    "len(data_tv['6A'])"
   ]
  },
  {
   "cell_type": "code",
   "execution_count": 15,
   "metadata": {},
   "outputs": [
    {
     "data": {
      "text/plain": [
       "1281"
      ]
     },
     "execution_count": 15,
     "metadata": {},
     "output_type": "execute_result"
    }
   ],
   "source": [
    "data_tv['HE']['close'].iloc[-757:].to_clipboard()\n",
    "len(data_tv['HE'])"
   ]
  },
  {
   "cell_type": "code",
   "execution_count": 16,
   "metadata": {},
   "outputs": [
    {
     "name": "stdout",
     "output_type": "stream",
     "text": [
      "2020-09-03 22:00:00\n",
      "2020-09-04 06:00:00\n",
      "2020-09-04 01:00:00\n",
      "2020-09-04 00:00:00\n",
      "2020-09-03 21:00:00\n",
      "2020-09-03 22:00:00\n",
      "2020-09-03 22:00:00\n",
      "2020-09-03 22:00:00\n",
      "2020-09-04 00:00:00\n",
      "2020-09-03 22:00:00\n",
      "2020-09-03 22:00:00\n",
      "2020-09-04 08:45:00\n",
      "2020-09-03 22:00:00\n",
      "2020-09-04 06:00:00\n",
      "2020-09-04 00:00:00\n",
      "2020-09-03 22:00:00\n",
      "2020-09-03 22:00:00\n",
      "2020-09-04 06:00:00\n",
      "2020-09-03 22:00:00\n",
      "2020-09-04 06:00:00\n",
      "2020-09-04 08:15:00\n",
      "2020-09-03 22:00:00\n",
      "2020-09-03 22:00:00\n",
      "2020-09-04 00:00:00\n",
      "2020-09-04 00:00:00\n",
      "2020-09-04 13:30:00\n",
      "2020-09-04 00:00:00\n",
      "2020-09-03 22:00:00\n",
      "2020-09-04 00:00:00\n",
      "2020-09-04 06:00:00\n",
      "2020-09-04 07:30:00\n",
      "2020-09-03 22:00:00\n",
      "2020-09-04 06:00:00\n",
      "2020-09-04 06:00:00\n",
      "2020-09-03 22:00:00\n",
      "2020-09-04 00:00:00\n",
      "2020-09-03 22:00:00\n",
      "2020-09-03 22:00:00\n",
      "2020-09-04 12:00:00\n",
      "2020-09-03 21:46:00\n",
      "2020-09-03 22:00:00\n",
      "2020-09-03 22:00:00\n",
      "2020-09-04 13:30:00\n",
      "2020-09-03 22:00:00\n",
      "2020-09-03 22:00:00\n",
      "2020-09-03 22:00:00\n",
      "2020-09-03 22:00:00\n",
      "2020-09-03 22:00:00\n",
      "2020-09-04 00:00:00\n",
      "2020-09-03 22:00:00\n",
      "2020-09-04 13:30:00\n"
     ]
    }
   ],
   "source": [
    "for key, item in data_tv.items():\n",
    "    print(item.index[-1])"
   ]
  },
  {
   "cell_type": "code",
   "execution_count": 17,
   "metadata": {},
   "outputs": [
    {
     "data": {
      "text/html": [
       "<div>\n",
       "<style scoped>\n",
       "    .dataframe tbody tr th:only-of-type {\n",
       "        vertical-align: middle;\n",
       "    }\n",
       "\n",
       "    .dataframe tbody tr th {\n",
       "        vertical-align: top;\n",
       "    }\n",
       "\n",
       "    .dataframe thead th {\n",
       "        text-align: right;\n",
       "    }\n",
       "</style>\n",
       "<table border=\"1\" class=\"dataframe\">\n",
       "  <thead>\n",
       "    <tr style=\"text-align: right;\">\n",
       "      <th></th>\n",
       "      <th>close</th>\n",
       "      <th>ma_2</th>\n",
       "      <th>ma_4</th>\n",
       "      <th>ma_8</th>\n",
       "      <th>ma_16</th>\n",
       "      <th>ma_32</th>\n",
       "      <th>ma_64</th>\n",
       "      <th>ma_128</th>\n",
       "      <th>ma_256</th>\n",
       "      <th>ma_2_8</th>\n",
       "      <th>...</th>\n",
       "      <th>ma_8_32_risk</th>\n",
       "      <th>ma_16_64_risk</th>\n",
       "      <th>ma_32_128_risk</th>\n",
       "      <th>ma_64_256_risk</th>\n",
       "      <th>ma_2_8_scale</th>\n",
       "      <th>ma_4_16_scale</th>\n",
       "      <th>ma_8_32_scale</th>\n",
       "      <th>ma_16_64_scale</th>\n",
       "      <th>ma_32_128_scale</th>\n",
       "      <th>ma_64_256_scale</th>\n",
       "    </tr>\n",
       "    <tr>\n",
       "      <th>time</th>\n",
       "      <th></th>\n",
       "      <th></th>\n",
       "      <th></th>\n",
       "      <th></th>\n",
       "      <th></th>\n",
       "      <th></th>\n",
       "      <th></th>\n",
       "      <th></th>\n",
       "      <th></th>\n",
       "      <th></th>\n",
       "      <th></th>\n",
       "      <th></th>\n",
       "      <th></th>\n",
       "      <th></th>\n",
       "      <th></th>\n",
       "      <th></th>\n",
       "      <th></th>\n",
       "      <th></th>\n",
       "      <th></th>\n",
       "      <th></th>\n",
       "      <th></th>\n",
       "    </tr>\n",
       "  </thead>\n",
       "  <tbody>\n",
       "    <tr>\n",
       "      <th>2020-08-30 22:00:00</th>\n",
       "      <td>12114.00</td>\n",
       "      <td>12052.875</td>\n",
       "      <td>12012.4375</td>\n",
       "      <td>11806.43750</td>\n",
       "      <td>11491.56250</td>\n",
       "      <td>11165.031250</td>\n",
       "      <td>10651.398438</td>\n",
       "      <td>9561.939453</td>\n",
       "      <td>8999.901367</td>\n",
       "      <td>246.43750</td>\n",
       "      <td>...</td>\n",
       "      <td>3985.924361</td>\n",
       "      <td>5221.075416</td>\n",
       "      <td>9962.177084</td>\n",
       "      <td>10262.984503</td>\n",
       "      <td>180.8</td>\n",
       "      <td>124.32</td>\n",
       "      <td>83.84</td>\n",
       "      <td>57.12</td>\n",
       "      <td>38.24</td>\n",
       "      <td>25.28</td>\n",
       "    </tr>\n",
       "    <tr>\n",
       "      <th>2020-08-31 22:00:00</th>\n",
       "      <td>12312.50</td>\n",
       "      <td>12213.250</td>\n",
       "      <td>12092.7500</td>\n",
       "      <td>11910.84375</td>\n",
       "      <td>11569.09375</td>\n",
       "      <td>11217.843750</td>\n",
       "      <td>10693.035156</td>\n",
       "      <td>9589.449219</td>\n",
       "      <td>9018.455078</td>\n",
       "      <td>302.40625</td>\n",
       "      <td>...</td>\n",
       "      <td>4249.471513</td>\n",
       "      <td>5371.985625</td>\n",
       "      <td>9985.304723</td>\n",
       "      <td>10268.514197</td>\n",
       "      <td>180.8</td>\n",
       "      <td>124.32</td>\n",
       "      <td>83.84</td>\n",
       "      <td>57.12</td>\n",
       "      <td>38.24</td>\n",
       "      <td>25.28</td>\n",
       "    </tr>\n",
       "    <tr>\n",
       "      <th>2020-09-01 22:00:00</th>\n",
       "      <td>12411.50</td>\n",
       "      <td>12362.000</td>\n",
       "      <td>12207.4375</td>\n",
       "      <td>12017.03125</td>\n",
       "      <td>11664.90625</td>\n",
       "      <td>11263.484375</td>\n",
       "      <td>10735.640625</td>\n",
       "      <td>9619.363281</td>\n",
       "      <td>9037.252930</td>\n",
       "      <td>344.96875</td>\n",
       "      <td>...</td>\n",
       "      <td>4643.523733</td>\n",
       "      <td>5726.341821</td>\n",
       "      <td>10131.440488</td>\n",
       "      <td>10465.843377</td>\n",
       "      <td>180.8</td>\n",
       "      <td>124.32</td>\n",
       "      <td>83.84</td>\n",
       "      <td>57.12</td>\n",
       "      <td>38.24</td>\n",
       "      <td>25.28</td>\n",
       "    </tr>\n",
       "    <tr>\n",
       "      <th>2020-09-02 22:00:00</th>\n",
       "      <td>11800.50</td>\n",
       "      <td>12106.000</td>\n",
       "      <td>12159.6250</td>\n",
       "      <td>12037.56250</td>\n",
       "      <td>11707.06250</td>\n",
       "      <td>11293.156250</td>\n",
       "      <td>10769.613281</td>\n",
       "      <td>9642.050781</td>\n",
       "      <td>9053.223633</td>\n",
       "      <td>68.43750</td>\n",
       "      <td>...</td>\n",
       "      <td>3078.555833</td>\n",
       "      <td>3876.901571</td>\n",
       "      <td>6828.288144</td>\n",
       "      <td>7098.276463</td>\n",
       "      <td>180.8</td>\n",
       "      <td>124.32</td>\n",
       "      <td>83.84</td>\n",
       "      <td>57.12</td>\n",
       "      <td>38.24</td>\n",
       "      <td>25.28</td>\n",
       "    </tr>\n",
       "    <tr>\n",
       "      <th>2020-09-03 22:00:00</th>\n",
       "      <td>11548.75</td>\n",
       "      <td>11674.625</td>\n",
       "      <td>12018.3125</td>\n",
       "      <td>12015.37500</td>\n",
       "      <td>11730.40625</td>\n",
       "      <td>11316.421875</td>\n",
       "      <td>10796.804688</td>\n",
       "      <td>9664.707031</td>\n",
       "      <td>9068.293945</td>\n",
       "      <td>-340.75000</td>\n",
       "      <td>...</td>\n",
       "      <td>2774.486551</td>\n",
       "      <td>3705.920878</td>\n",
       "      <td>6556.463454</td>\n",
       "      <td>6861.303907</td>\n",
       "      <td>180.8</td>\n",
       "      <td>124.32</td>\n",
       "      <td>83.84</td>\n",
       "      <td>57.12</td>\n",
       "      <td>38.24</td>\n",
       "      <td>25.28</td>\n",
       "    </tr>\n",
       "  </tbody>\n",
       "</table>\n",
       "<p>5 rows × 28 columns</p>\n",
       "</div>"
      ],
      "text/plain": [
       "                        close       ma_2        ma_4         ma_8  \\\n",
       "time                                                                \n",
       "2020-08-30 22:00:00  12114.00  12052.875  12012.4375  11806.43750   \n",
       "2020-08-31 22:00:00  12312.50  12213.250  12092.7500  11910.84375   \n",
       "2020-09-01 22:00:00  12411.50  12362.000  12207.4375  12017.03125   \n",
       "2020-09-02 22:00:00  11800.50  12106.000  12159.6250  12037.56250   \n",
       "2020-09-03 22:00:00  11548.75  11674.625  12018.3125  12015.37500   \n",
       "\n",
       "                           ma_16         ma_32         ma_64       ma_128  \\\n",
       "time                                                                        \n",
       "2020-08-30 22:00:00  11491.56250  11165.031250  10651.398438  9561.939453   \n",
       "2020-08-31 22:00:00  11569.09375  11217.843750  10693.035156  9589.449219   \n",
       "2020-09-01 22:00:00  11664.90625  11263.484375  10735.640625  9619.363281   \n",
       "2020-09-02 22:00:00  11707.06250  11293.156250  10769.613281  9642.050781   \n",
       "2020-09-03 22:00:00  11730.40625  11316.421875  10796.804688  9664.707031   \n",
       "\n",
       "                          ma_256     ma_2_8  ...  ma_8_32_risk  ma_16_64_risk  \\\n",
       "time                                         ...                                \n",
       "2020-08-30 22:00:00  8999.901367  246.43750  ...   3985.924361    5221.075416   \n",
       "2020-08-31 22:00:00  9018.455078  302.40625  ...   4249.471513    5371.985625   \n",
       "2020-09-01 22:00:00  9037.252930  344.96875  ...   4643.523733    5726.341821   \n",
       "2020-09-02 22:00:00  9053.223633   68.43750  ...   3078.555833    3876.901571   \n",
       "2020-09-03 22:00:00  9068.293945 -340.75000  ...   2774.486551    3705.920878   \n",
       "\n",
       "                     ma_32_128_risk  ma_64_256_risk  ma_2_8_scale  \\\n",
       "time                                                                \n",
       "2020-08-30 22:00:00     9962.177084    10262.984503         180.8   \n",
       "2020-08-31 22:00:00     9985.304723    10268.514197         180.8   \n",
       "2020-09-01 22:00:00    10131.440488    10465.843377         180.8   \n",
       "2020-09-02 22:00:00     6828.288144     7098.276463         180.8   \n",
       "2020-09-03 22:00:00     6556.463454     6861.303907         180.8   \n",
       "\n",
       "                     ma_4_16_scale  ma_8_32_scale  ma_16_64_scale  \\\n",
       "time                                                                \n",
       "2020-08-30 22:00:00         124.32          83.84           57.12   \n",
       "2020-08-31 22:00:00         124.32          83.84           57.12   \n",
       "2020-09-01 22:00:00         124.32          83.84           57.12   \n",
       "2020-09-02 22:00:00         124.32          83.84           57.12   \n",
       "2020-09-03 22:00:00         124.32          83.84           57.12   \n",
       "\n",
       "                     ma_32_128_scale  ma_64_256_scale  \n",
       "time                                                   \n",
       "2020-08-30 22:00:00            38.24            25.28  \n",
       "2020-08-31 22:00:00            38.24            25.28  \n",
       "2020-09-01 22:00:00            38.24            25.28  \n",
       "2020-09-02 22:00:00            38.24            25.28  \n",
       "2020-09-03 22:00:00            38.24            25.28  \n",
       "\n",
       "[5 rows x 28 columns]"
      ]
     },
     "execution_count": 17,
     "metadata": {},
     "output_type": "execute_result"
    }
   ],
   "source": [
    "data_tv['NQ']['ma_2'] = data_tv['NQ']['close'].rolling(2).mean()\n",
    "data_tv['NQ']['ma_4'] = data_tv['NQ']['close'].rolling(4).mean()\n",
    "data_tv['NQ']['ma_8'] = data_tv['NQ']['close'].rolling(8).mean()\n",
    "data_tv['NQ']['ma_16'] = data_tv['NQ']['close'].rolling(16).mean()\n",
    "data_tv['NQ']['ma_32'] = data_tv['NQ']['close'].rolling(32).mean()\n",
    "data_tv['NQ']['ma_64'] = data_tv['NQ']['close'].rolling(64).mean()\n",
    "data_tv['NQ']['ma_128'] = data_tv['NQ']['close'].rolling(128).mean()\n",
    "data_tv['NQ']['ma_256'] = data_tv['NQ']['close'].rolling(256).mean()\n",
    "\n",
    "data_tv['NQ']['ma_2_8'] = data_tv['NQ']['ma_2'] - data_tv['NQ']['ma_8']\n",
    "data_tv['NQ']['ma_4_16'] = data_tv['NQ']['ma_4'] - data_tv['NQ']['ma_16']\n",
    "data_tv['NQ']['ma_8_32'] = data_tv['NQ']['ma_8'] - data_tv['NQ']['ma_32']\n",
    "data_tv['NQ']['ma_16_64'] = data_tv['NQ']['ma_16'] - data_tv['NQ']['ma_64']\n",
    "data_tv['NQ']['ma_32_128'] = data_tv['NQ']['ma_32'] - data_tv['NQ']['ma_128']\n",
    "data_tv['NQ']['ma_64_256'] = data_tv['NQ']['ma_64'] - data_tv['NQ']['ma_256']\n",
    "data_tv['NQ']['ins_risk'] = data_tv['NQ']['close'].pct_change().rolling(24).std() * 16\n",
    "\n",
    "data_tv['NQ']['ma_2_8_risk'] = data_tv['NQ']['ma_2_8'] / data_tv['NQ']['ins_risk']\n",
    "data_tv['NQ']['ma_4_16_risk'] = data_tv['NQ']['ma_4_16'] / data_tv['NQ']['ins_risk']\n",
    "data_tv['NQ']['ma_8_32_risk'] = data_tv['NQ']['ma_8_32'] / data_tv['NQ']['ins_risk']\n",
    "data_tv['NQ']['ma_16_64_risk'] = data_tv['NQ']['ma_16_64'] / data_tv['NQ']['ins_risk']\n",
    "data_tv['NQ']['ma_32_128_risk'] = data_tv['NQ']['ma_32_128'] / data_tv['NQ']['ins_risk']\n",
    "data_tv['NQ']['ma_64_256_risk'] = data_tv['NQ']['ma_64_256'] / data_tv['NQ']['ins_risk']\n",
    "\n",
    "data_tv['NQ']['ma_2_8_scale'] = 180.8\n",
    "data_tv['NQ']['ma_4_16_scale'] = 124.32\n",
    "data_tv['NQ']['ma_8_32_scale'] = 83.84\n",
    "data_tv['NQ']['ma_16_64_scale'] = 57.12\n",
    "data_tv['NQ']['ma_32_128_scale'] = 38.24\n",
    "data_tv['NQ']['ma_64_256_scale'] = 25.28\n",
    "\n",
    "# data_tv['NQ']['ma_2_8_forecast'] = min(20, max(data_tv['NQ']['ma_2_8_risk']*data_tv['NQ']['ma_2_8_scale'], -20))\n",
    "# data_tv['NQ']['ma_4_16_forecast'] = min(20, max(data_tv['NQ']['ma_4_16_risk']*data_tv['NQ']['ma_4_16_scale'], -20))\n",
    "# data_tv['NQ']['ma_8_32_forecast'] = min(20, max(data_tv['NQ']['ma_8_32_risk']*data_tv['NQ']['ma_8_32_scale'], -20))\n",
    "# data_tv['NQ']['ma_16_64_forecast'] = min(20, max(data_tv['NQ']['ma_16_64_risk']*data_tv['NQ']['ma_16_64_scale'], -20))\n",
    "# data_tv['NQ']['ma_32_128_forecast'] = min(20, max(data_tv['NQ']['ma_32_128_risk']*data_tv['NQ']['ma_32_128_scale'], -20))\n",
    "# data_tv['NQ']['ma_64_256_forecast'] = min(20, max(data_tv['NQ']['ma_64_256_risk']*data_tv['NQ']['ma_64_256_scale'], -20))\n",
    "\n",
    "\n",
    "data_tv['NQ'].tail(5).to_clipboard()\n",
    "data_tv['NQ'].tail(5)"
   ]
  },
  {
   "cell_type": "code",
   "execution_count": 18,
   "metadata": {},
   "outputs": [
    {
     "data": {
      "text/plain": [
       "time\n",
       "2015-07-29 22:00:00         NaN\n",
       "2015-07-30 22:00:00         NaN\n",
       "2015-08-02 22:00:00         NaN\n",
       "2015-08-03 22:00:00         NaN\n",
       "2015-08-04 22:00:00         NaN\n",
       "                         ...   \n",
       "2020-08-30 22:00:00    0.500000\n",
       "2020-08-31 22:00:00    0.500000\n",
       "2020-09-01 22:00:00    0.500000\n",
       "2020-09-02 22:00:00   -0.219247\n",
       "2020-09-03 22:00:00   -0.500000\n",
       "Name: close, Length: 1287, dtype: float64"
      ]
     },
     "execution_count": 18,
     "metadata": {},
     "output_type": "execute_result"
    }
   ],
   "source": [
    "(data_tv['NQ']['close'] - (data_tv['NQ']['close'].rolling(10).max() + data_tv['NQ']['close'].rolling(10).min()) / 2) / ((data_tv['NQ']['close'].rolling(10).max() - data_tv['NQ']['close'].rolling(10).min()))"
   ]
  },
  {
   "cell_type": "code",
   "execution_count": null,
   "metadata": {},
   "outputs": [],
   "source": []
  }
 ],
 "metadata": {
  "kernelspec": {
   "display_name": "Python [conda env:backtrader]",
   "language": "python",
   "name": "conda-env-backtrader-py"
  },
  "language_info": {
   "codemirror_mode": {
    "name": "ipython",
    "version": 3
   },
   "file_extension": ".py",
   "mimetype": "text/x-python",
   "name": "python",
   "nbconvert_exporter": "python",
   "pygments_lexer": "ipython3",
   "version": "3.8.5"
  }
 },
 "nbformat": 4,
 "nbformat_minor": 4
}
