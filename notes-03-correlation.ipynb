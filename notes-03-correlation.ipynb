{
 "cells": [
  {
   "cell_type": "code",
   "execution_count": 1,
   "metadata": {},
   "outputs": [],
   "source": [
    "%matplotlib inline\n",
    "import pandas as pd\n",
    "import matplotlib.pyplot as plt"
   ]
  },
  {
   "cell_type": "code",
   "execution_count": 2,
   "metadata": {},
   "outputs": [],
   "source": [
    "def get_returns(file):\n",
    "    \"\"\"\n",
    "    This function get_returns reads a data file from disk\n",
    "    and returns percentage returns\n",
    "    \"\"\"\n",
    "    return pd.read_csv(file + '.csv', index_col=0, parse_dates=True).pct_change()"
   ]
  },
  {
   "cell_type": "code",
   "execution_count": 3,
   "metadata": {},
   "outputs": [],
   "source": [
    "#Get the S&P time series from disk\n",
    "df = get_returns('Trading Evolved/Chapter 6 Pandas/sp500')"
   ]
  },
  {
   "cell_type": "code",
   "execution_count": 4,
   "metadata": {},
   "outputs": [],
   "source": [
    "# Add a column for the Nasdaq\n",
    "df['NDX'] = get_returns('Trading Evolved/Chapter 6 Pandas/ndx')"
   ]
  },
  {
   "cell_type": "code",
   "execution_count": 5,
   "metadata": {},
   "outputs": [
    {
     "data": {
      "text/plain": [
       "<matplotlib.axes._subplots.AxesSubplot at 0x7faec5d90470>"
      ]
     },
     "execution_count": 5,
     "metadata": {},
     "output_type": "execute_result"
    },
    {
     "data": {
      "image/png": "[encoded data removed]",
      "text/plain": [
       "<Figure size 432x288 with 1 Axes>"
      ]
     },
     "metadata": {
      "needs_background": "light"
     },
     "output_type": "display_data"
    }
   ],
   "source": [
    "# Calculate correlations, plot the last 200 data points.\n",
    "df['SP500'].rolling(50).corr(df['NDX'])[-200:].plot()"
   ]
  },
  {
   "cell_type": "code",
   "execution_count": 6,
   "metadata": {},
   "outputs": [
    {
     "data": {
      "text/html": [
       "<div>\n",
       "<style scoped>\n",
       "    .dataframe tbody tr th:only-of-type {\n",
       "        vertical-align: middle;\n",
       "    }\n",
       "\n",
       "    .dataframe tbody tr th {\n",
       "        vertical-align: top;\n",
       "    }\n",
       "\n",
       "    .dataframe thead th {\n",
       "        text-align: right;\n",
       "    }\n",
       "</style>\n",
       "<table border=\"1\" class=\"dataframe\">\n",
       "  <thead>\n",
       "    <tr style=\"text-align: right;\">\n",
       "      <th></th>\n",
       "      <th>SP500</th>\n",
       "      <th>NDX</th>\n",
       "    </tr>\n",
       "    <tr>\n",
       "      <th>Date</th>\n",
       "      <th></th>\n",
       "      <th></th>\n",
       "    </tr>\n",
       "  </thead>\n",
       "  <tbody>\n",
       "    <tr>\n",
       "      <th>2009-06-23</th>\n",
       "      <td>NaN</td>\n",
       "      <td>-0.001507</td>\n",
       "    </tr>\n",
       "    <tr>\n",
       "      <th>2009-06-24</th>\n",
       "      <td>0.006524</td>\n",
       "      <td>0.015866</td>\n",
       "    </tr>\n",
       "    <tr>\n",
       "      <th>2009-06-25</th>\n",
       "      <td>0.021444</td>\n",
       "      <td>0.019875</td>\n",
       "    </tr>\n",
       "    <tr>\n",
       "      <th>2009-06-26</th>\n",
       "      <td>-0.001478</td>\n",
       "      <td>0.002968</td>\n",
       "    </tr>\n",
       "    <tr>\n",
       "      <th>2009-06-29</th>\n",
       "      <td>0.009065</td>\n",
       "      <td>0.002452</td>\n",
       "    </tr>\n",
       "    <tr>\n",
       "      <th>2009-06-30</th>\n",
       "      <td>-0.008531</td>\n",
       "      <td>-0.004434</td>\n",
       "    </tr>\n",
       "    <tr>\n",
       "      <th>2009-07-01</th>\n",
       "      <td>0.004362</td>\n",
       "      <td>0.002769</td>\n",
       "    </tr>\n",
       "    <tr>\n",
       "      <th>2009-07-02</th>\n",
       "      <td>-0.029145</td>\n",
       "      <td>-0.023668</td>\n",
       "    </tr>\n",
       "    <tr>\n",
       "      <th>2009-07-06</th>\n",
       "      <td>0.002566</td>\n",
       "      <td>-0.003644</td>\n",
       "    </tr>\n",
       "    <tr>\n",
       "      <th>2009-07-07</th>\n",
       "      <td>-0.019684</td>\n",
       "      <td>-0.025142</td>\n",
       "    </tr>\n",
       "  </tbody>\n",
       "</table>\n",
       "</div>"
      ],
      "text/plain": [
       "               SP500       NDX\n",
       "Date                          \n",
       "2009-06-23       NaN -0.001507\n",
       "2009-06-24  0.006524  0.015866\n",
       "2009-06-25  0.021444  0.019875\n",
       "2009-06-26 -0.001478  0.002968\n",
       "2009-06-29  0.009065  0.002452\n",
       "2009-06-30 -0.008531 -0.004434\n",
       "2009-07-01  0.004362  0.002769\n",
       "2009-07-02 -0.029145 -0.023668\n",
       "2009-07-06  0.002566 -0.003644\n",
       "2009-07-07 -0.019684 -0.025142"
      ]
     },
     "execution_count": 6,
     "metadata": {},
     "output_type": "execute_result"
    }
   ],
   "source": [
    "df.head(10)"
   ]
  },
  {
   "cell_type": "markdown",
   "metadata": {},
   "source": [
    "# Another Way"
   ]
  },
  {
   "cell_type": "code",
   "execution_count": 7,
   "metadata": {},
   "outputs": [],
   "source": [
    "def get_data(file):\n",
    "    \"\"\"\n",
    "    Fetch data from disk\n",
    "    \"\"\"\n",
    "    data = pd.read_csv(file + '.csv', index_col = 'Date', parse_dates = ['Date'])\n",
    "    return data"
   ]
  },
  {
   "cell_type": "code",
   "execution_count": 8,
   "metadata": {},
   "outputs": [],
   "source": [
    "def calc_corr(ser1, ser2, window):\n",
    "    \"\"\"\n",
    "    Calculates correlation between two series.\n",
    "    \"\"\"\n",
    "    ret1 = ser1.pct_change()\n",
    "    ret2 = ser2.pct_change()\n",
    "    corr = ret1.rolling(window).corr(ret2)\n",
    "    return corr"
   ]
  },
  {
   "cell_type": "code",
   "execution_count": 9,
   "metadata": {},
   "outputs": [],
   "source": [
    "# Define how many points we intend to plot. Points in this case would be trading days.\n",
    "points_to_plot = 300"
   ]
  },
  {
   "cell_type": "code",
   "execution_count": 10,
   "metadata": {},
   "outputs": [],
   "source": [
    "# Go get the log return data.\n",
    "data = get_data('Trading Evolved/Chapter 6 Pandas/indexes')"
   ]
  },
  {
   "cell_type": "code",
   "execution_count": 11,
   "metadata": {},
   "outputs": [],
   "source": [
    "# Rebase the two series to the same point in time, starting where the plot will start.\n",
    "for ind in data:\n",
    "    data[ind + '_rebased'] = (data[-points_to_plot:][ind].pct_change() + 1).cumprod()"
   ]
  },
  {
   "cell_type": "code",
   "execution_count": 12,
   "metadata": {},
   "outputs": [],
   "source": [
    "# Relative strength, NDX to SP500\n",
    "data['rel_str'] = data['NDX']/data['SP500']"
   ]
  },
  {
   "cell_type": "code",
   "execution_count": 13,
   "metadata": {},
   "outputs": [],
   "source": [
    "# Calculate 50 day rolling correlation\n",
    "data['corr'] = calc_corr(data['NDX'], data['SP500'], 100)"
   ]
  },
  {
   "cell_type": "code",
   "execution_count": 14,
   "metadata": {},
   "outputs": [],
   "source": [
    "# You could use this copy the DataFrame to clipboard,\n",
    "# which could easily be pasted into Excel or similar\n",
    "# for inspection.\n",
    "data.to_clipboard()"
   ]
  },
  {
   "cell_type": "code",
   "execution_count": 15,
   "metadata": {},
   "outputs": [
    {
     "data": {
      "text/html": [
       "<div>\n",
       "<style scoped>\n",
       "    .dataframe tbody tr th:only-of-type {\n",
       "        vertical-align: middle;\n",
       "    }\n",
       "\n",
       "    .dataframe tbody tr th {\n",
       "        vertical-align: top;\n",
       "    }\n",
       "\n",
       "    .dataframe thead th {\n",
       "        text-align: right;\n",
       "    }\n",
       "</style>\n",
       "<table border=\"1\" class=\"dataframe\">\n",
       "  <thead>\n",
       "    <tr style=\"text-align: right;\">\n",
       "      <th></th>\n",
       "      <th>SP500</th>\n",
       "      <th>NDX</th>\n",
       "      <th>SP500_rebased</th>\n",
       "      <th>NDX_rebased</th>\n",
       "      <th>rel_str</th>\n",
       "      <th>corr</th>\n",
       "    </tr>\n",
       "    <tr>\n",
       "      <th>Date</th>\n",
       "      <th></th>\n",
       "      <th></th>\n",
       "      <th></th>\n",
       "      <th></th>\n",
       "      <th></th>\n",
       "      <th></th>\n",
       "    </tr>\n",
       "  </thead>\n",
       "  <tbody>\n",
       "    <tr>\n",
       "      <th>2018-07-06</th>\n",
       "      <td>2759.82</td>\n",
       "      <td>7207.334</td>\n",
       "      <td>1.142749</td>\n",
       "      <td>1.247294</td>\n",
       "      <td>2.611523</td>\n",
       "      <td>0.943911</td>\n",
       "    </tr>\n",
       "    <tr>\n",
       "      <th>2018-07-09</th>\n",
       "      <td>2784.17</td>\n",
       "      <td>7276.001</td>\n",
       "      <td>1.152832</td>\n",
       "      <td>1.259178</td>\n",
       "      <td>2.613347</td>\n",
       "      <td>0.944012</td>\n",
       "    </tr>\n",
       "    <tr>\n",
       "      <th>2018-07-10</th>\n",
       "      <td>2793.84</td>\n",
       "      <td>7282.599</td>\n",
       "      <td>1.156836</td>\n",
       "      <td>1.260320</td>\n",
       "      <td>2.606663</td>\n",
       "      <td>0.942303</td>\n",
       "    </tr>\n",
       "    <tr>\n",
       "      <th>2018-07-11</th>\n",
       "      <td>2774.02</td>\n",
       "      <td>7243.980</td>\n",
       "      <td>1.148629</td>\n",
       "      <td>1.253636</td>\n",
       "      <td>2.611365</td>\n",
       "      <td>0.941116</td>\n",
       "    </tr>\n",
       "    <tr>\n",
       "      <th>2018-07-12</th>\n",
       "      <td>2798.29</td>\n",
       "      <td>7366.250</td>\n",
       "      <td>1.158679</td>\n",
       "      <td>1.274796</td>\n",
       "      <td>2.632411</td>\n",
       "      <td>0.941777</td>\n",
       "    </tr>\n",
       "    <tr>\n",
       "      <th>2018-07-13</th>\n",
       "      <td>2801.31</td>\n",
       "      <td>7375.817</td>\n",
       "      <td>1.159929</td>\n",
       "      <td>1.276452</td>\n",
       "      <td>2.632988</td>\n",
       "      <td>0.944167</td>\n",
       "    </tr>\n",
       "    <tr>\n",
       "      <th>2018-07-16</th>\n",
       "      <td>2798.43</td>\n",
       "      <td>7357.899</td>\n",
       "      <td>1.158737</td>\n",
       "      <td>1.273351</td>\n",
       "      <td>2.629295</td>\n",
       "      <td>0.944487</td>\n",
       "    </tr>\n",
       "    <tr>\n",
       "      <th>2018-07-17</th>\n",
       "      <td>2809.55</td>\n",
       "      <td>7403.891</td>\n",
       "      <td>1.163341</td>\n",
       "      <td>1.281310</td>\n",
       "      <td>2.635259</td>\n",
       "      <td>0.944631</td>\n",
       "    </tr>\n",
       "    <tr>\n",
       "      <th>2018-07-18</th>\n",
       "      <td>2815.62</td>\n",
       "      <td>7390.126</td>\n",
       "      <td>1.165854</td>\n",
       "      <td>1.278928</td>\n",
       "      <td>2.624689</td>\n",
       "      <td>0.942287</td>\n",
       "    </tr>\n",
       "    <tr>\n",
       "      <th>2018-07-19</th>\n",
       "      <td>2804.49</td>\n",
       "      <td>7352.357</td>\n",
       "      <td>1.161246</td>\n",
       "      <td>1.272392</td>\n",
       "      <td>2.621638</td>\n",
       "      <td>0.941853</td>\n",
       "    </tr>\n",
       "    <tr>\n",
       "      <th>2018-07-20</th>\n",
       "      <td>2801.83</td>\n",
       "      <td>7350.227</td>\n",
       "      <td>1.160144</td>\n",
       "      <td>1.272023</td>\n",
       "      <td>2.623367</td>\n",
       "      <td>0.941411</td>\n",
       "    </tr>\n",
       "    <tr>\n",
       "      <th>2018-07-23</th>\n",
       "      <td>2806.98</td>\n",
       "      <td>7371.780</td>\n",
       "      <td>1.162277</td>\n",
       "      <td>1.275753</td>\n",
       "      <td>2.626232</td>\n",
       "      <td>0.943111</td>\n",
       "    </tr>\n",
       "    <tr>\n",
       "      <th>2018-07-24</th>\n",
       "      <td>2820.40</td>\n",
       "      <td>7406.248</td>\n",
       "      <td>1.167834</td>\n",
       "      <td>1.281718</td>\n",
       "      <td>2.625957</td>\n",
       "      <td>0.942041</td>\n",
       "    </tr>\n",
       "    <tr>\n",
       "      <th>2018-07-25</th>\n",
       "      <td>2846.07</td>\n",
       "      <td>7508.586</td>\n",
       "      <td>1.178463</td>\n",
       "      <td>1.299429</td>\n",
       "      <td>2.638230</td>\n",
       "      <td>0.942526</td>\n",
       "    </tr>\n",
       "    <tr>\n",
       "      <th>2018-07-26</th>\n",
       "      <td>2837.44</td>\n",
       "      <td>7400.748</td>\n",
       "      <td>1.174889</td>\n",
       "      <td>1.280767</td>\n",
       "      <td>2.608248</td>\n",
       "      <td>0.939391</td>\n",
       "    </tr>\n",
       "    <tr>\n",
       "      <th>2018-07-27</th>\n",
       "      <td>2818.82</td>\n",
       "      <td>7296.781</td>\n",
       "      <td>1.167179</td>\n",
       "      <td>1.262774</td>\n",
       "      <td>2.588594</td>\n",
       "      <td>0.939082</td>\n",
       "    </tr>\n",
       "    <tr>\n",
       "      <th>2018-07-30</th>\n",
       "      <td>2802.60</td>\n",
       "      <td>7193.103</td>\n",
       "      <td>1.160463</td>\n",
       "      <td>1.244832</td>\n",
       "      <td>2.566582</td>\n",
       "      <td>0.938597</td>\n",
       "    </tr>\n",
       "    <tr>\n",
       "      <th>2018-07-31</th>\n",
       "      <td>2816.29</td>\n",
       "      <td>7231.983</td>\n",
       "      <td>1.166132</td>\n",
       "      <td>1.251560</td>\n",
       "      <td>2.567911</td>\n",
       "      <td>0.938573</td>\n",
       "    </tr>\n",
       "    <tr>\n",
       "      <th>2018-08-01</th>\n",
       "      <td>2813.36</td>\n",
       "      <td>7272.887</td>\n",
       "      <td>1.164919</td>\n",
       "      <td>1.258639</td>\n",
       "      <td>2.585125</td>\n",
       "      <td>0.935668</td>\n",
       "    </tr>\n",
       "    <tr>\n",
       "      <th>2018-08-02</th>\n",
       "      <td>2827.22</td>\n",
       "      <td>7372.148</td>\n",
       "      <td>1.170658</td>\n",
       "      <td>1.275817</td>\n",
       "      <td>2.607561</td>\n",
       "      <td>0.935795</td>\n",
       "    </tr>\n",
       "  </tbody>\n",
       "</table>\n",
       "</div>"
      ],
      "text/plain": [
       "              SP500       NDX  SP500_rebased  NDX_rebased   rel_str      corr\n",
       "Date                                                                         \n",
       "2018-07-06  2759.82  7207.334       1.142749     1.247294  2.611523  0.943911\n",
       "2018-07-09  2784.17  7276.001       1.152832     1.259178  2.613347  0.944012\n",
       "2018-07-10  2793.84  7282.599       1.156836     1.260320  2.606663  0.942303\n",
       "2018-07-11  2774.02  7243.980       1.148629     1.253636  2.611365  0.941116\n",
       "2018-07-12  2798.29  7366.250       1.158679     1.274796  2.632411  0.941777\n",
       "2018-07-13  2801.31  7375.817       1.159929     1.276452  2.632988  0.944167\n",
       "2018-07-16  2798.43  7357.899       1.158737     1.273351  2.629295  0.944487\n",
       "2018-07-17  2809.55  7403.891       1.163341     1.281310  2.635259  0.944631\n",
       "2018-07-18  2815.62  7390.126       1.165854     1.278928  2.624689  0.942287\n",
       "2018-07-19  2804.49  7352.357       1.161246     1.272392  2.621638  0.941853\n",
       "2018-07-20  2801.83  7350.227       1.160144     1.272023  2.623367  0.941411\n",
       "2018-07-23  2806.98  7371.780       1.162277     1.275753  2.626232  0.943111\n",
       "2018-07-24  2820.40  7406.248       1.167834     1.281718  2.625957  0.942041\n",
       "2018-07-25  2846.07  7508.586       1.178463     1.299429  2.638230  0.942526\n",
       "2018-07-26  2837.44  7400.748       1.174889     1.280767  2.608248  0.939391\n",
       "2018-07-27  2818.82  7296.781       1.167179     1.262774  2.588594  0.939082\n",
       "2018-07-30  2802.60  7193.103       1.160463     1.244832  2.566582  0.938597\n",
       "2018-07-31  2816.29  7231.983       1.166132     1.251560  2.567911  0.938573\n",
       "2018-08-01  2813.36  7272.887       1.164919     1.258639  2.585125  0.935668\n",
       "2018-08-02  2827.22  7372.148       1.170658     1.275817  2.607561  0.935795"
      ]
     },
     "execution_count": 15,
     "metadata": {},
     "output_type": "execute_result"
    }
   ],
   "source": [
    "# We can take a look at the data in the DataFrame\n",
    "# Using head or tail to print from the start or the bottom.\n",
    "data.tail(20)"
   ]
  },
  {
   "cell_type": "code",
   "execution_count": 16,
   "metadata": {},
   "outputs": [],
   "source": [
    "# Slice the data, cut points we don't intend to plot.\n",
    "plot_data = data[-points_to_plot:]"
   ]
  },
  {
   "cell_type": "code",
   "execution_count": 17,
   "metadata": {},
   "outputs": [
    {
     "data": {
      "text/plain": [
       "<Figure size 864x576 with 0 Axes>"
      ]
     },
     "metadata": {},
     "output_type": "display_data"
    }
   ],
   "source": [
    "# Make new figure and set the size.\n",
    "fig = plt.figure(figsize=(12, 8))"
   ]
  },
  {
   "cell_type": "code",
   "execution_count": 18,
   "metadata": {},
   "outputs": [],
   "source": [
    "# The first subplot, planning for 3 plots high, 1 plot wide, this being the first.\n",
    "ax = fig.add_subplot(311)\n",
    "ax.set_title('Index Comparison')\n",
    "ax.semilogy(plot_data['SP500_rebased'], linestyle = '-', label = 'S&P 500', linewidth = 3.0)\n",
    "ax.semilogy(plot_data['NDX_rebased'], linestyle = '--', label = 'Nasdaq', linewidth = 3.0)\n",
    "ax.legend()\n",
    "ax.grid(False)"
   ]
  },
  {
   "cell_type": "code",
   "execution_count": 19,
   "metadata": {},
   "outputs": [],
   "source": [
    "# Second subplot.\n",
    "ax = fig.add_subplot(312)\n",
    "ax.plot(plot_data['rel_str'], label = 'Relative Strength, Nasdaq to S&P 500', linestyle = ':', linewidth = 3.0)\n",
    "ax.legend()\n",
    "ax.grid(True)"
   ]
  },
  {
   "cell_type": "code",
   "execution_count": 20,
   "metadata": {},
   "outputs": [],
   "source": [
    "# Third subplot.\n",
    "ax = fig.add_subplot(313)\n",
    "ax.plot(plot_data['corr'], label = 'Correlation between Nasdaq and S&P 500', linestyle = '-.', linewidth = 3.0)\n",
    "ax.legend()\n",
    "ax.grid(True)"
   ]
  },
  {
   "cell_type": "code",
   "execution_count": 21,
   "metadata": {},
   "outputs": [
    {
     "data": {
      "image/png": "[encoded data removed]",
      "text/plain": [
       "<Figure size 864x576 with 3 Axes>"
      ]
     },
     "execution_count": 21,
     "metadata": {},
     "output_type": "execute_result"
    }
   ],
   "source": [
    "fig"
   ]
  },
  {
   "cell_type": "code",
   "execution_count": null,
   "metadata": {},
   "outputs": [],
   "source": []
  }
 ],
 "metadata": {
  "kernelspec": {
   "display_name": "Python 3",
   "language": "python",
   "name": "python3"
  },
  "language_info": {
   "codemirror_mode": {
    "name": "ipython",
    "version": 3
   },
   "file_extension": ".py",
   "mimetype": "text/x-python",
   "name": "python",
   "nbconvert_exporter": "python",
   "pygments_lexer": "ipython3",
   "version": "3.6.10"
  }
 },
 "nbformat": 4,
 "nbformat_minor": 4
}
