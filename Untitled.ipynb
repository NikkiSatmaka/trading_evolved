{
 "cells": [
  {
   "cell_type": "code",
   "execution_count": 1,
   "metadata": {},
   "outputs": [],
   "source": [
    "from datetime import datetime\n",
    "from scipy import stats\n",
    "import os\n",
    "import pytz\n",
    "import pandas as pd\n",
    "import numpy as np\n",
    "import matplotlib.pyplot as plt\n",
    "import matplotlib\n",
    "import matplotlib.ticker as ticker\n",
    "import os\n",
    "\n",
    "%matplotlib inline"
   ]
  },
  {
   "cell_type": "code",
   "execution_count": 4,
   "metadata": {},
   "outputs": [],
   "source": [
    "csv_loc = '/home/nikki/documents/amibroker/exported-csv/'\n",
    "tickers = os.listdir(csv_loc)"
   ]
  },
  {
   "cell_type": "code",
   "execution_count": 6,
   "metadata": {},
   "outputs": [],
   "source": [
    "data_idx = {}\n",
    "for ticker in tickers:\n",
    "    data_idx[ticker[:-4]] = pd.read_csv(f'{csv_loc}/{ticker}',\n",
    "                                        index_col='date',\n",
    "                                        parse_dates=['date'])"
   ]
  },
  {
   "cell_type": "code",
   "execution_count": 7,
   "metadata": {},
   "outputs": [
    {
     "data": {
      "text/html": [
       "<div>\n",
       "<style scoped>\n",
       "    .dataframe tbody tr th:only-of-type {\n",
       "        vertical-align: middle;\n",
       "    }\n",
       "\n",
       "    .dataframe tbody tr th {\n",
       "        vertical-align: top;\n",
       "    }\n",
       "\n",
       "    .dataframe thead th {\n",
       "        text-align: right;\n",
       "    }\n",
       "</style>\n",
       "<table border=\"1\" class=\"dataframe\">\n",
       "  <thead>\n",
       "    <tr style=\"text-align: right;\">\n",
       "      <th></th>\n",
       "      <th>open</th>\n",
       "      <th>high</th>\n",
       "      <th>low</th>\n",
       "      <th>close</th>\n",
       "      <th>volume</th>\n",
       "    </tr>\n",
       "    <tr>\n",
       "      <th>date</th>\n",
       "      <th></th>\n",
       "      <th></th>\n",
       "      <th></th>\n",
       "      <th></th>\n",
       "      <th></th>\n",
       "    </tr>\n",
       "  </thead>\n",
       "  <tbody>\n",
       "    <tr>\n",
       "      <th>1993-01-04</th>\n",
       "      <td>109.0</td>\n",
       "      <td>110.0</td>\n",
       "      <td>108.0</td>\n",
       "      <td>108.0</td>\n",
       "      <td>5524000</td>\n",
       "    </tr>\n",
       "    <tr>\n",
       "      <th>1993-01-05</th>\n",
       "      <td>108.0</td>\n",
       "      <td>108.0</td>\n",
       "      <td>108.0</td>\n",
       "      <td>108.0</td>\n",
       "      <td>2959000</td>\n",
       "    </tr>\n",
       "    <tr>\n",
       "      <th>1993-01-06</th>\n",
       "      <td>108.0</td>\n",
       "      <td>109.0</td>\n",
       "      <td>108.0</td>\n",
       "      <td>109.0</td>\n",
       "      <td>4537500</td>\n",
       "    </tr>\n",
       "    <tr>\n",
       "      <th>1993-01-07</th>\n",
       "      <td>109.0</td>\n",
       "      <td>109.0</td>\n",
       "      <td>109.0</td>\n",
       "      <td>109.0</td>\n",
       "      <td>41034500</td>\n",
       "    </tr>\n",
       "    <tr>\n",
       "      <th>1993-01-08</th>\n",
       "      <td>109.0</td>\n",
       "      <td>110.0</td>\n",
       "      <td>109.0</td>\n",
       "      <td>109.0</td>\n",
       "      <td>29395000</td>\n",
       "    </tr>\n",
       "    <tr>\n",
       "      <th>...</th>\n",
       "      <td>...</td>\n",
       "      <td>...</td>\n",
       "      <td>...</td>\n",
       "      <td>...</td>\n",
       "      <td>...</td>\n",
       "    </tr>\n",
       "    <tr>\n",
       "      <th>2020-07-24</th>\n",
       "      <td>5175.0</td>\n",
       "      <td>5175.0</td>\n",
       "      <td>5000.0</td>\n",
       "      <td>5050.0</td>\n",
       "      <td>32338100</td>\n",
       "    </tr>\n",
       "    <tr>\n",
       "      <th>2020-07-27</th>\n",
       "      <td>5075.0</td>\n",
       "      <td>5150.0</td>\n",
       "      <td>5025.0</td>\n",
       "      <td>5125.0</td>\n",
       "      <td>17645200</td>\n",
       "    </tr>\n",
       "    <tr>\n",
       "      <th>2020-07-28</th>\n",
       "      <td>5175.0</td>\n",
       "      <td>5225.0</td>\n",
       "      <td>5100.0</td>\n",
       "      <td>5175.0</td>\n",
       "      <td>30210400</td>\n",
       "    </tr>\n",
       "    <tr>\n",
       "      <th>2020-07-29</th>\n",
       "      <td>5175.0</td>\n",
       "      <td>5225.0</td>\n",
       "      <td>5050.0</td>\n",
       "      <td>5075.0</td>\n",
       "      <td>32010100</td>\n",
       "    </tr>\n",
       "    <tr>\n",
       "      <th>2020-07-30</th>\n",
       "      <td>5025.0</td>\n",
       "      <td>5225.0</td>\n",
       "      <td>5000.0</td>\n",
       "      <td>5150.0</td>\n",
       "      <td>32720500</td>\n",
       "    </tr>\n",
       "  </tbody>\n",
       "</table>\n",
       "<p>6799 rows × 5 columns</p>\n",
       "</div>"
      ],
      "text/plain": [
       "              open    high     low   close    volume\n",
       "date                                                \n",
       "1993-01-04   109.0   110.0   108.0   108.0   5524000\n",
       "1993-01-05   108.0   108.0   108.0   108.0   2959000\n",
       "1993-01-06   108.0   109.0   108.0   109.0   4537500\n",
       "1993-01-07   109.0   109.0   109.0   109.0  41034500\n",
       "1993-01-08   109.0   110.0   109.0   109.0  29395000\n",
       "...            ...     ...     ...     ...       ...\n",
       "2020-07-24  5175.0  5175.0  5000.0  5050.0  32338100\n",
       "2020-07-27  5075.0  5150.0  5025.0  5125.0  17645200\n",
       "2020-07-28  5175.0  5225.0  5100.0  5175.0  30210400\n",
       "2020-07-29  5175.0  5225.0  5050.0  5075.0  32010100\n",
       "2020-07-30  5025.0  5225.0  5000.0  5150.0  32720500\n",
       "\n",
       "[6799 rows x 5 columns]"
      ]
     },
     "execution_count": 7,
     "metadata": {},
     "output_type": "execute_result"
    }
   ],
   "source": [
    "data_idx['ASII']"
   ]
  },
  {
   "cell_type": "code",
   "execution_count": 25,
   "metadata": {},
   "outputs": [
    {
     "data": {
      "text/plain": [
       "array([ 0,  1,  2,  3,  4,  5,  6,  7,  8,  9, 10, 11, 12, 13, 14, 15, 16,\n",
       "       17, 18, 19, 20, 21, 22, 23, 24, 25, 26, 27, 28, 29, 30, 31])"
      ]
     },
     "execution_count": 25,
     "metadata": {},
     "output_type": "execute_result"
    }
   ],
   "source": [
    "# get data\n",
    "sample_series1 = [11, 9, 12, 10, 14, 12, 15, 16, 14, 16, 15, 14, \n",
    "                  16, 18, 19, 22, 20, 26, 23, 25, 30, 27, 26, 29, \n",
    "                  30, 32, 31, 35, 37, 34, 38, 42]\n",
    "x = np.arange(len(sample_series1))\n",
    "x\n",
    "# slope, intercept, r_value, p_value, std_err = stats.linregress(x, sample_series1)\n",
    "\n",
    "# regression_line = [intercept + (slope * n) for n in x]\n",
    "\n",
    "# print(\"Data has a slope of {:.2f}, an intercept of {:.2f} and an R2 value of {:.2f}.\".format(\n",
    "#     slope, intercept, r_value **2 ))"
   ]
  },
  {
   "cell_type": "code",
   "execution_count": 22,
   "metadata": {},
   "outputs": [
    {
     "data": {
      "text/plain": [
       "[11,\n",
       " 9,\n",
       " 12,\n",
       " 10,\n",
       " 14,\n",
       " 12,\n",
       " 15,\n",
       " 16,\n",
       " 14,\n",
       " 16,\n",
       " 15,\n",
       " 14,\n",
       " 16,\n",
       " 18,\n",
       " 19,\n",
       " 22,\n",
       " 20,\n",
       " 26,\n",
       " 23,\n",
       " 25,\n",
       " 30,\n",
       " 27,\n",
       " 26,\n",
       " 29,\n",
       " 30,\n",
       " 32,\n",
       " 31,\n",
       " 35,\n",
       " 37,\n",
       " 34,\n",
       " 38,\n",
       " 42]"
      ]
     },
     "execution_count": 22,
     "metadata": {},
     "output_type": "execute_result"
    }
   ],
   "source": [
    "sample_series1"
   ]
  },
  {
   "cell_type": "code",
   "execution_count": null,
   "metadata": {},
   "outputs": [],
   "source": [
    "stats.linregress()"
   ]
  },
  {
   "cell_type": "code",
   "execution_count": 2,
   "metadata": {},
   "outputs": [],
   "source": [
    "aali = pd.read_csv('/home/nikki/documents/amibroker/exported-csv/AALI.csv', index_col='date', parse_dates=True)"
   ]
  },
  {
   "cell_type": "code",
   "execution_count": 35,
   "metadata": {},
   "outputs": [
    {
     "data": {
      "text/plain": [
       "DatetimeIndex(['2020-06-19', '2020-06-22', '2020-06-23', '2020-06-24',\n",
       "               '2020-06-25', '2020-06-26', '2020-06-29', '2020-06-30',\n",
       "               '2020-07-01', '2020-07-02', '2020-07-03', '2020-07-06',\n",
       "               '2020-07-07', '2020-07-08', '2020-07-09', '2020-07-10',\n",
       "               '2020-07-13', '2020-07-14', '2020-07-15', '2020-07-16',\n",
       "               '2020-07-17', '2020-07-20', '2020-07-21', '2020-07-22',\n",
       "               '2020-07-23', '2020-07-24', '2020-07-27', '2020-07-28',\n",
       "               '2020-07-29', '2020-07-30'],\n",
       "              dtype='datetime64[ns]', name='date', freq=None)"
      ]
     },
     "execution_count": 35,
     "metadata": {},
     "output_type": "execute_result"
    }
   ],
   "source": [
    "aali.iloc[-30:].index"
   ]
  },
  {
   "cell_type": "code",
   "execution_count": 11,
   "metadata": {},
   "outputs": [
    {
     "data": {
      "text/plain": [
       "open         9750.0\n",
       "high        10225.0\n",
       "low          9700.0\n",
       "close        9700.0\n",
       "volume    4630200.0\n",
       "Name: 2020-07-30 00:00:00, dtype: float64"
      ]
     },
     "execution_count": 11,
     "metadata": {},
     "output_type": "execute_result"
    }
   ],
   "source": [
    "aali.iloc[-1]"
   ]
  },
  {
   "cell_type": "code",
   "execution_count": 19,
   "metadata": {},
   "outputs": [
    {
     "data": {
      "text/plain": [
       "date\n",
       "2020-06-19    8400.0\n",
       "2020-06-22    8650.0\n",
       "2020-06-23    8825.0\n",
       "2020-06-24    8775.0\n",
       "2020-06-25    8450.0\n",
       "2020-06-26    8425.0\n",
       "2020-06-29    8200.0\n",
       "2020-06-30    8225.0\n",
       "2020-07-01    8325.0\n",
       "2020-07-02    8450.0\n",
       "2020-07-03    8550.0\n",
       "2020-07-06    8600.0\n",
       "2020-07-07    8700.0\n",
       "2020-07-08    8650.0\n",
       "2020-07-09    8675.0\n",
       "2020-07-10    8475.0\n",
       "2020-07-13    8575.0\n",
       "2020-07-14    8575.0\n",
       "2020-07-15    8850.0\n",
       "2020-07-16    8975.0\n",
       "2020-07-17    9175.0\n",
       "2020-07-20    9425.0\n",
       "2020-07-21    9550.0\n",
       "2020-07-22    9475.0\n",
       "2020-07-23    9425.0\n",
       "2020-07-24    9375.0\n",
       "2020-07-27    9400.0\n",
       "2020-07-28    9300.0\n",
       "2020-07-29    9700.0\n",
       "2020-07-30    9700.0\n",
       "Name: close, dtype: float64"
      ]
     },
     "execution_count": 19,
     "metadata": {},
     "output_type": "execute_result"
    }
   ],
   "source": [
    "aali['close'].iloc[-30:]"
   ]
  },
  {
   "cell_type": "code",
   "execution_count": 20,
   "metadata": {},
   "outputs": [
    {
     "data": {
      "text/plain": [
       "date\n",
       "2020-06-19    9.035987\n",
       "2020-06-22    9.065315\n",
       "2020-06-23    9.085344\n",
       "2020-06-24    9.079662\n",
       "2020-06-25    9.041922\n",
       "2020-06-26    9.038959\n",
       "2020-06-29    9.011889\n",
       "2020-06-30    9.014934\n",
       "2020-07-01    9.027018\n",
       "2020-07-02    9.041922\n",
       "2020-07-03    9.053687\n",
       "2020-07-06    9.059517\n",
       "2020-07-07    9.071078\n",
       "2020-07-08    9.065315\n",
       "2020-07-09    9.068201\n",
       "2020-07-10    9.044876\n",
       "2020-07-13    9.056606\n",
       "2020-07-14    9.056606\n",
       "2020-07-15    9.088173\n",
       "2020-07-16    9.102198\n",
       "2020-07-17    9.124238\n",
       "2020-07-20    9.151121\n",
       "2020-07-21    9.164296\n",
       "2020-07-22    9.156412\n",
       "2020-07-23    9.151121\n",
       "2020-07-24    9.145802\n",
       "2020-07-27    9.148465\n",
       "2020-07-28    9.137770\n",
       "2020-07-29    9.179881\n",
       "2020-07-30    9.179881\n",
       "Name: close, dtype: float64"
      ]
     },
     "execution_count": 20,
     "metadata": {},
     "output_type": "execute_result"
    }
   ],
   "source": [
    "np.log(aali['close'].iloc[-30:])"
   ]
  },
  {
   "cell_type": "code",
   "execution_count": 37,
   "metadata": {},
   "outputs": [
    {
     "data": {
      "text/plain": [
       "LinregressResult(slope=0.004939582994646695, intercept=9.016649213377072, rvalue=0.8376666890324728, pvalue=7.778399953349558e-09, stderr=0.0006086634460948588)"
      ]
     },
     "execution_count": 37,
     "metadata": {},
     "output_type": "execute_result"
    }
   ],
   "source": [
    "stats.linregress(np.arange(len(aali['close'].iloc[-30:])), np.log(aali['close'].iloc[-30:]))"
   ]
  },
  {
   "cell_type": "code",
   "execution_count": 3,
   "metadata": {},
   "outputs": [],
   "source": [
    "exp_slope, exp_intercept, exp_r_value, exp_p_value, exp_std_err = stats.linregress(np.arange(len(aali['close'].iloc[-30:])), np.log(aali['close'].iloc[-30:]))"
   ]
  },
  {
   "cell_type": "code",
   "execution_count": 4,
   "metadata": {},
   "outputs": [],
   "source": [
    "exp_slope = np.exp(exp_slope)\n",
    "exp_intercept = np.exp(exp_intercept)"
   ]
  },
  {
   "cell_type": "code",
   "execution_count": 6,
   "metadata": {},
   "outputs": [],
   "source": [
    "exp_regression_line = [exp_intercept * (np.power(exp_slope, n)) for n in np.arange(len(aali['close'].iloc[-30:]))]"
   ]
  },
  {
   "cell_type": "code",
   "execution_count": 8,
   "metadata": {},
   "outputs": [
    {
     "data": {
      "text/plain": [
       "Text(0, 42, '$Y = Intercept * Slope^X$')"
      ]
     },
     "execution_count": 8,
     "metadata": {},
     "output_type": "execute_result"
    },
    {
     "data": {
      "image/png": "[encoded data removed]",
      "text/plain": [
       "<Figure size 864x576 with 1 Axes>"
      ]
     },
     "metadata": {
      "needs_background": "light"
     },
     "output_type": "display_data"
    }
   ],
   "source": [
    "# Make a figure\n",
    "fig = plt.figure(figsize=(12, 8))\n",
    "ax = fig.add_subplot(111)\n",
    "ax.set_title('Low Fit Regression Example')\n",
    "ax.plot(exp_regression_line, \n",
    "        linestyle='-', \n",
    "        color='black',\n",
    "        label='Equity Curve', linewidth=3.0)\n",
    "\n",
    "ax.plot(np.arange(len(aali['close'].iloc[-30:])), \n",
    "        'o',\n",
    "        color='black',\n",
    "        label='Equity Curve', markersize=10.0)\n",
    "\n",
    "ax.text(0, 45, 'Slope: {:.2f}% \\nIntercept: {:.2f} \\nR2: {:.2f}'.format(\n",
    "    (exp_slope - 1) * 100, \n",
    "    exp_intercept, \n",
    "    exp_r_value **2)\n",
    "       )\n",
    "\n",
    "ax.text(0, 42, r'$Y = Intercept * Slope^X$')"
   ]
  },
  {
   "cell_type": "code",
   "execution_count": 49,
   "metadata": {},
   "outputs": [
    {
     "data": {
      "text/plain": [
       "Text(0, 42, '$Y = Intercept * Slope^X$')"
      ]
     },
     "execution_count": 49,
     "metadata": {},
     "output_type": "execute_result"
    }
   ],
   "source": [
    "# get data\n",
    "sample_series1 = [11, 9, 12, 10, 14, 12, 11, 12, 10, 13, 12, 10, \n",
    "                  45, 44, 41, 40, 41, 40, 37, 38, 41, 41, 38, \n",
    "                  32, 30, 31, 35, 37, 34, 33, 35]\n",
    "\n",
    "x = np.arange(len(sample_series1))\n",
    "\n",
    "log_series1 = np.log(sample_series1)\n",
    "\n",
    "exp_slope, exp_intercept, exp_r_value, exp_p_value, exp_std_err = stats.linregress(x, log_series1)\n",
    "\n",
    "exp_slope = np.exp(exp_slope)\n",
    "exp_intercept = np.exp(exp_intercept)\n",
    "\n",
    "exp_regression_line = [exp_intercept * (np.power(exp_slope, n)) for n in x]\n",
    "\n",
    "# Format for book image\n",
    "font = {'family' : 'eurostile',\n",
    "        'weight' : 'normal',\n",
    "        'size'   : 16}\n",
    "matplotlib.rc('font', **font)\n",
    "\n",
    "# Make a figure\n",
    "fig = plt.figure(figsize=(12, 8))\n",
    "ax = fig.add_subplot(111)\n",
    "ax.set_title('Low Fit Regression Example')\n",
    "ax.plot(exp_regression_line, \n",
    "        linestyle='-', \n",
    "        color='black',\n",
    "        label='Equity Curve', linewidth=3.0)\n",
    "\n",
    "ax.plot(sample_series1, \n",
    "        'o',\n",
    "        color='black',\n",
    "        label='Equity Curve', markersize=10.0)\n",
    "\n",
    "ax.text(0, 45, 'Slope: {:.2f}% \\nIntercept: {:.2f} \\nR2: {:.2f}'.format(\n",
    "    (exp_slope - 1) * 100, \n",
    "    exp_intercept, \n",
    "    exp_r_value **2)\n",
    "       )\n",
    "\n",
    "ax.text(0, 42, r'$Y = Intercept * Slope^X$')"
   ]
  },
  {
   "cell_type": "code",
   "execution_count": null,
   "metadata": {},
   "outputs": [],
   "source": []
  }
 ],
 "metadata": {
  "kernelspec": {
   "display_name": "Python [conda env:backtrader]",
   "language": "python",
   "name": "conda-env-backtrader-py"
  },
  "language_info": {
   "codemirror_mode": {
    "name": "ipython",
    "version": 3
   },
   "file_extension": ".py",
   "mimetype": "text/x-python",
   "name": "python",
   "nbconvert_exporter": "python",
   "pygments_lexer": "ipython3",
   "version": "3.8.5"
  }
 },
 "nbformat": 4,
 "nbformat_minor": 4
}
