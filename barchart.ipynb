{
 "cells": [
  {
   "cell_type": "code",
   "execution_count": 1,
   "metadata": {},
   "outputs": [],
   "source": [
    "import pandas as pd\n",
    "import numpy as np"
   ]
  },
  {
   "cell_type": "code",
   "execution_count": 37,
   "metadata": {},
   "outputs": [],
   "source": [
    "fields_out = ['date', 'open', 'high', 'low', 'last', 'volume', 'open_int']\n",
    "\n",
    "fields_in = ['data__tradeTime', 'data__openPrice', 'data__highPrice', 'data__lowPrice', 'data__lastPrice', 'data__volume', 'data__openInterest']\n",
    "\n",
    "nqh19 = pd.read_csv(\"result.csv\", usecols=fields_in, parse_dates=[0])\n",
    "nqh19.columns = fields_out\n",
    "nqh19.set_index('date', inplace=True)\n",
    "nqh19.to_csv(\"nqh19.csv\")"
   ]
  },
  {
   "cell_type": "code",
   "execution_count": null,
   "metadata": {},
   "outputs": [],
   "source": []
  }
 ],
 "metadata": {
  "kernelspec": {
   "display_name": "Python 3",
   "language": "python",
   "name": "python3"
  },
  "language_info": {
   "codemirror_mode": {
    "name": "ipython",
    "version": 3
   },
   "file_extension": ".py",
   "mimetype": "text/x-python",
   "name": "python",
   "nbconvert_exporter": "python",
   "pygments_lexer": "ipython3",
   "version": "3.8.5"
  }
 },
 "nbformat": 4,
 "nbformat_minor": 4
}
