{
 "cells": [
  {
   "cell_type": "markdown",
   "metadata": {
    "colab_type": "text",
    "id": "JLkYM_eCt6gO"
   },
   "source": [
    "## Mount Google Drive"
   ]
  },
  {
   "cell_type": "code",
   "execution_count": null,
   "metadata": {
    "colab": {
     "base_uri": "https://localhost:8080/",
     "height": 173
    },
    "colab_type": "code",
    "id": "gfL4eet7t8NQ",
    "outputId": "fe5c3d99-bcf6-4116-8701-2ecdcbfb8cf7"
   },
   "outputs": [],
   "source": [
    "from google.colab import drive\n",
    "\n",
    "# Make sure to unmount drive at mount point\n",
    "drive.flush_and_unmount()\n",
    "drive.mount('/content/drive')"
   ]
  },
  {
   "cell_type": "markdown",
   "metadata": {
    "colab_type": "text",
    "id": "l34g4_XBt_LD"
   },
   "source": [
    "# Research Start"
   ]
  },
  {
   "cell_type": "code",
   "execution_count": 18,
   "metadata": {
    "colab": {},
    "colab_type": "code",
    "id": "m2sYL9YhoNKt"
   },
   "outputs": [],
   "source": [
    "from datetime import datetime\n",
    "from scipy import stats\n",
    "import os\n",
    "import pytz\n",
    "import quandl\n",
    "import matplotlib.pyplot as plt\n",
    "import pandas as pd\n",
    "import numpy as np\n",
    "\n",
    "%matplotlib inline"
   ]
  },
  {
   "cell_type": "markdown",
   "metadata": {},
   "source": [
    "### Creating IDX Equities Time Series"
   ]
  },
  {
   "cell_type": "code",
   "execution_count": 2,
   "metadata": {
    "colab": {},
    "colab_type": "code",
    "id": "iGnOVJVu3IqE"
   },
   "outputs": [],
   "source": [
    "# Location of the IDX Stocks OHLC csv files\n",
    "# csv_loc = '/content/drive/Shared drives/algo-clenow/idx_exported_csv'\n",
    "csv_loc = '/home/nikki/documents/amibroker/exported-csv'\n",
    "# csv_loc = '/Users/nikki/Documents/idx_exported_csv'\n",
    "\n",
    "# Backup if the first one doesn't work\n",
    "# csv_loc = '/content/drive/Shared drives/algo-clenow/idx_exported_csv_gama'\n",
    "\n",
    "tickers = os.listdir(csv_loc)"
   ]
  },
  {
   "cell_type": "code",
   "execution_count": 3,
   "metadata": {
    "colab": {},
    "colab_type": "code",
    "id": "OfYB8N40Qsfz"
   },
   "outputs": [],
   "source": [
    "\"\"\"\n",
    "Create a dictionary where the key is the ticker\n",
    "and the value is a pandas dataframe of the OHLC time series\n",
    "\"\"\"\n",
    "data_idx = {}\n",
    "for ticker in tickers:\n",
    "    data_idx[ticker[:-4]] = pd.read_csv(f'{csv_loc}/{ticker}',\n",
    "                                        index_col='date',\n",
    "                                        parse_dates=['date'])"
   ]
  },
  {
   "cell_type": "code",
   "execution_count": 8,
   "metadata": {},
   "outputs": [],
   "source": [
    "def volatility(ts, period=20):\n",
    "    \"\"\"\n",
    "    Input:  Price time series, Look back period\n",
    "    Output: Standard deviation of the percent change\n",
    "    \"\"\"\n",
    "    return ts.pct_change().rolling(period).std().iloc[-1]"
   ]
  },
  {
   "cell_type": "markdown",
   "metadata": {},
   "source": [
    "# Starter System\n",
    "\n",
    "Instrument\n",
    "- AUDUSD\n",
    "\n",
    "Opening Rule\n",
    "- if 16-day SMA > 64-day SMA: go long\n",
    "- if 16-day SMA < 64-day SMA: go short\n",
    "\n",
    "Position sizing\n",
    "- Notional exposure = (target risk % x capital) / instrument risk %\n",
    "- target risk = 12%\n",
    "\n",
    "Closing rule\n",
    "- Trailing stop\n",
    "- Stop loss gap = 0.5 x instrument risk % x closing price at entry\n"
   ]
  },
  {
   "cell_type": "markdown",
   "metadata": {},
   "source": [
    "### AUDUSD"
   ]
  },
  {
   "cell_type": "code",
   "execution_count": 1,
   "metadata": {},
   "outputs": [],
   "source": [
    "import fxcmpy"
   ]
  },
  {
   "cell_type": "code",
   "execution_count": 2,
   "metadata": {},
   "outputs": [],
   "source": [
    "TOKEN = 'FXCM TOKEN'\n",
    "con = fxcmpy.fxcmpy(access_token=TOKEN, log_level='error', server='demo', log_file='log.txt')"
   ]
  },
  {
   "cell_type": "code",
   "execution_count": 5,
   "metadata": {},
   "outputs": [
    {
     "data": {
      "text/plain": [
       "True"
      ]
     },
     "execution_count": 5,
     "metadata": {},
     "output_type": "execute_result"
    }
   ],
   "source": [
    "con.is_connected()"
   ]
  },
  {
   "cell_type": "code",
   "execution_count": 30,
   "metadata": {},
   "outputs": [
    {
     "data": {
      "text/html": [
       "<div>\n",
       "<style scoped>\n",
       "    .dataframe tbody tr th:only-of-type {\n",
       "        vertical-align: middle;\n",
       "    }\n",
       "\n",
       "    .dataframe tbody tr th {\n",
       "        vertical-align: top;\n",
       "    }\n",
       "\n",
       "    .dataframe thead th {\n",
       "        text-align: right;\n",
       "    }\n",
       "</style>\n",
       "<table border=\"1\" class=\"dataframe\">\n",
       "  <thead>\n",
       "    <tr style=\"text-align: right;\">\n",
       "      <th></th>\n",
       "      <th>bidopen</th>\n",
       "      <th>bidclose</th>\n",
       "      <th>bidhigh</th>\n",
       "      <th>bidlow</th>\n",
       "      <th>askopen</th>\n",
       "      <th>askclose</th>\n",
       "      <th>askhigh</th>\n",
       "      <th>asklow</th>\n",
       "      <th>tickqty</th>\n",
       "    </tr>\n",
       "    <tr>\n",
       "      <th>date</th>\n",
       "      <th></th>\n",
       "      <th></th>\n",
       "      <th></th>\n",
       "      <th></th>\n",
       "      <th></th>\n",
       "      <th></th>\n",
       "      <th></th>\n",
       "      <th></th>\n",
       "      <th></th>\n",
       "    </tr>\n",
       "  </thead>\n",
       "  <tbody>\n",
       "    <tr>\n",
       "      <th>2020-08-07 21:00:00</th>\n",
       "      <td>0.72342</td>\n",
       "      <td>0.71564</td>\n",
       "      <td>0.72423</td>\n",
       "      <td>0.71438</td>\n",
       "      <td>0.72365</td>\n",
       "      <td>0.71608</td>\n",
       "      <td>0.72441</td>\n",
       "      <td>0.71454</td>\n",
       "      <td>276627</td>\n",
       "    </tr>\n",
       "    <tr>\n",
       "      <th>2020-08-09 21:00:00</th>\n",
       "      <td>0.71555</td>\n",
       "      <td>0.71570</td>\n",
       "      <td>0.71593</td>\n",
       "      <td>0.71555</td>\n",
       "      <td>0.71633</td>\n",
       "      <td>0.71659</td>\n",
       "      <td>0.71659</td>\n",
       "      <td>0.71633</td>\n",
       "      <td>14</td>\n",
       "    </tr>\n",
       "    <tr>\n",
       "      <th>2020-08-10 21:00:00</th>\n",
       "      <td>0.71570</td>\n",
       "      <td>0.71473</td>\n",
       "      <td>0.71833</td>\n",
       "      <td>0.71395</td>\n",
       "      <td>0.71659</td>\n",
       "      <td>0.71518</td>\n",
       "      <td>0.71848</td>\n",
       "      <td>0.71411</td>\n",
       "      <td>171198</td>\n",
       "    </tr>\n",
       "    <tr>\n",
       "      <th>2020-08-11 21:00:00</th>\n",
       "      <td>0.71473</td>\n",
       "      <td>0.71391</td>\n",
       "      <td>0.71888</td>\n",
       "      <td>0.71341</td>\n",
       "      <td>0.71518</td>\n",
       "      <td>0.71485</td>\n",
       "      <td>0.71905</td>\n",
       "      <td>0.71359</td>\n",
       "      <td>234654</td>\n",
       "    </tr>\n",
       "    <tr>\n",
       "      <th>2020-08-12 21:00:00</th>\n",
       "      <td>0.71391</td>\n",
       "      <td>0.71606</td>\n",
       "      <td>0.71751</td>\n",
       "      <td>0.71084</td>\n",
       "      <td>0.71485</td>\n",
       "      <td>0.71639</td>\n",
       "      <td>0.71769</td>\n",
       "      <td>0.71097</td>\n",
       "      <td>246866</td>\n",
       "    </tr>\n",
       "  </tbody>\n",
       "</table>\n",
       "</div>"
      ],
      "text/plain": [
       "                     bidopen  bidclose  bidhigh   bidlow  askopen  askclose  \\\n",
       "date                                                                          \n",
       "2020-08-07 21:00:00  0.72342   0.71564  0.72423  0.71438  0.72365   0.71608   \n",
       "2020-08-09 21:00:00  0.71555   0.71570  0.71593  0.71555  0.71633   0.71659   \n",
       "2020-08-10 21:00:00  0.71570   0.71473  0.71833  0.71395  0.71659   0.71518   \n",
       "2020-08-11 21:00:00  0.71473   0.71391  0.71888  0.71341  0.71518   0.71485   \n",
       "2020-08-12 21:00:00  0.71391   0.71606  0.71751  0.71084  0.71485   0.71639   \n",
       "\n",
       "                     askhigh   asklow  tickqty  \n",
       "date                                            \n",
       "2020-08-07 21:00:00  0.72441  0.71454   276627  \n",
       "2020-08-09 21:00:00  0.71659  0.71633       14  \n",
       "2020-08-10 21:00:00  0.71848  0.71411   171198  \n",
       "2020-08-11 21:00:00  0.71905  0.71359   234654  \n",
       "2020-08-12 21:00:00  0.71769  0.71097   246866  "
      ]
     },
     "execution_count": 30,
     "metadata": {},
     "output_type": "execute_result"
    }
   ],
   "source": [
    "audusd = con.get_candles('AUD/USD', period='D1', number=50)\n",
    "audusd.drop(audusd.tail(1).index, inplace=True)\n",
    "audusd.tail()"
   ]
  },
  {
   "cell_type": "code",
   "execution_count": 37,
   "metadata": {},
   "outputs": [
    {
     "data": {
      "text/plain": [
       "0.08869172370286511"
      ]
     },
     "execution_count": 37,
     "metadata": {},
     "output_type": "execute_result"
    }
   ],
   "source": [
    "ins_risk = volatility(audusd['bidclose'], 25) * 16\n",
    "ins_risk"
   ]
  },
  {
   "cell_type": "code",
   "execution_count": 35,
   "metadata": {},
   "outputs": [
    {
     "name": "stdout",
     "output_type": "stream",
     "text": [
      "529.4821995291295\n"
     ]
    }
   ],
   "source": [
    "\"\"\"\n",
    "Formula 21: Minimum capital\n",
    "Minimum capital = (minimum exposure x instrument risk %) / target risk %\n",
    "\"\"\"\n",
    "target_risk = 0.12\n",
    "min_exposure = audusd['askclose'].iloc[-1] * 1000\n",
    "min_capital = min_exposure * ins_risk / target_risk\n",
    "print(min_capital)"
   ]
  },
  {
   "cell_type": "markdown",
   "metadata": {
    "colab_type": "text",
    "id": "Xc1WtcF6OqYa"
   },
   "source": [
    "## Position Sizing\n",
    "\n",
    "### Notional exposure = (target risk x capital) / instrument risk %"
   ]
  },
  {
   "cell_type": "code",
   "execution_count": 38,
   "metadata": {
    "colab": {
     "base_uri": "https://localhost:8080/",
     "height": 34
    },
    "colab_type": "code",
    "id": "M4SiVZiDYIXH",
    "outputId": "6ad166ab-bfc7-4cf7-84ec-08dad8ab40f4"
   },
   "outputs": [
    {
     "name": "stdout",
     "output_type": "stream",
     "text": [
      "3087.548517124533\n"
     ]
    }
   ],
   "source": [
    "capital = 2282\n",
    "expose = target_risk * capital / ins_risk\n",
    "print(expose)"
   ]
  },
  {
   "cell_type": "markdown",
   "metadata": {
    "colab_type": "text",
    "id": "uWabJtStOA8C"
   },
   "source": [
    "## Instrument risk calculation"
   ]
  },
  {
   "cell_type": "code",
   "execution_count": null,
   "metadata": {
    "colab": {
     "base_uri": "https://localhost:8080/",
     "height": 235
    },
    "colab_type": "code",
    "id": "GMuCyDQECuM_",
    "outputId": "83b3dbae-22ce-4b24-da09-1956e78aec91"
   },
   "outputs": [
    {
     "data": {
      "text/html": [
       "<div>\n",
       "<style scoped>\n",
       "    .dataframe tbody tr th:only-of-type {\n",
       "        vertical-align: middle;\n",
       "    }\n",
       "\n",
       "    .dataframe tbody tr th {\n",
       "        vertical-align: top;\n",
       "    }\n",
       "\n",
       "    .dataframe thead th {\n",
       "        text-align: right;\n",
       "    }\n",
       "</style>\n",
       "<table border=\"1\" class=\"dataframe\">\n",
       "  <thead>\n",
       "    <tr style=\"text-align: right;\">\n",
       "      <th></th>\n",
       "      <th>open</th>\n",
       "      <th>high</th>\n",
       "      <th>low</th>\n",
       "      <th>close</th>\n",
       "      <th>volume</th>\n",
       "      <th>pct</th>\n",
       "    </tr>\n",
       "    <tr>\n",
       "      <th>date</th>\n",
       "      <th></th>\n",
       "      <th></th>\n",
       "      <th></th>\n",
       "      <th></th>\n",
       "      <th></th>\n",
       "      <th></th>\n",
       "    </tr>\n",
       "  </thead>\n",
       "  <tbody>\n",
       "    <tr>\n",
       "      <th>2020-07-24</th>\n",
       "      <td>5175.0</td>\n",
       "      <td>5175.0</td>\n",
       "      <td>5000.0</td>\n",
       "      <td>5050.0</td>\n",
       "      <td>32338100</td>\n",
       "      <td>-0.024155</td>\n",
       "    </tr>\n",
       "    <tr>\n",
       "      <th>2020-07-27</th>\n",
       "      <td>5075.0</td>\n",
       "      <td>5150.0</td>\n",
       "      <td>5025.0</td>\n",
       "      <td>5125.0</td>\n",
       "      <td>17645200</td>\n",
       "      <td>0.014851</td>\n",
       "    </tr>\n",
       "    <tr>\n",
       "      <th>2020-07-28</th>\n",
       "      <td>5175.0</td>\n",
       "      <td>5225.0</td>\n",
       "      <td>5100.0</td>\n",
       "      <td>5175.0</td>\n",
       "      <td>30210400</td>\n",
       "      <td>0.009756</td>\n",
       "    </tr>\n",
       "    <tr>\n",
       "      <th>2020-07-29</th>\n",
       "      <td>5175.0</td>\n",
       "      <td>5225.0</td>\n",
       "      <td>5050.0</td>\n",
       "      <td>5075.0</td>\n",
       "      <td>32010100</td>\n",
       "      <td>-0.019324</td>\n",
       "    </tr>\n",
       "    <tr>\n",
       "      <th>2020-07-30</th>\n",
       "      <td>5025.0</td>\n",
       "      <td>5225.0</td>\n",
       "      <td>5000.0</td>\n",
       "      <td>5150.0</td>\n",
       "      <td>32720500</td>\n",
       "      <td>0.014778</td>\n",
       "    </tr>\n",
       "  </tbody>\n",
       "</table>\n",
       "</div>"
      ],
      "text/plain": [
       "              open    high     low   close    volume       pct\n",
       "date                                                          \n",
       "2020-07-24  5175.0  5175.0  5000.0  5050.0  32338100 -0.024155\n",
       "2020-07-27  5075.0  5150.0  5025.0  5125.0  17645200  0.014851\n",
       "2020-07-28  5175.0  5225.0  5100.0  5175.0  30210400  0.009756\n",
       "2020-07-29  5175.0  5225.0  5050.0  5075.0  32010100 -0.019324\n",
       "2020-07-30  5025.0  5225.0  5000.0  5150.0  32720500  0.014778"
      ]
     },
     "execution_count": 6,
     "metadata": {
      "tags": []
     },
     "output_type": "execute_result"
    }
   ],
   "source": [
    "ASII['pct'] = ASII['close'].pct_change()\n",
    "ASII.tail()"
   ]
  },
  {
   "cell_type": "code",
   "execution_count": null,
   "metadata": {
    "colab": {
     "base_uri": "https://localhost:8080/",
     "height": 235
    },
    "colab_type": "code",
    "id": "DEAsmkKGMqHk",
    "outputId": "ce12702f-b7a2-4aac-e31e-822d1bed98df"
   },
   "outputs": [
    {
     "data": {
      "text/html": [
       "<div>\n",
       "<style scoped>\n",
       "    .dataframe tbody tr th:only-of-type {\n",
       "        vertical-align: middle;\n",
       "    }\n",
       "\n",
       "    .dataframe tbody tr th {\n",
       "        vertical-align: top;\n",
       "    }\n",
       "\n",
       "    .dataframe thead th {\n",
       "        text-align: right;\n",
       "    }\n",
       "</style>\n",
       "<table border=\"1\" class=\"dataframe\">\n",
       "  <thead>\n",
       "    <tr style=\"text-align: right;\">\n",
       "      <th></th>\n",
       "      <th>open</th>\n",
       "      <th>high</th>\n",
       "      <th>low</th>\n",
       "      <th>close</th>\n",
       "      <th>volume</th>\n",
       "      <th>pct</th>\n",
       "      <th>std</th>\n",
       "    </tr>\n",
       "    <tr>\n",
       "      <th>date</th>\n",
       "      <th></th>\n",
       "      <th></th>\n",
       "      <th></th>\n",
       "      <th></th>\n",
       "      <th></th>\n",
       "      <th></th>\n",
       "      <th></th>\n",
       "    </tr>\n",
       "  </thead>\n",
       "  <tbody>\n",
       "    <tr>\n",
       "      <th>2020-07-24</th>\n",
       "      <td>5175.0</td>\n",
       "      <td>5175.0</td>\n",
       "      <td>5000.0</td>\n",
       "      <td>5050.0</td>\n",
       "      <td>32338100</td>\n",
       "      <td>-0.024155</td>\n",
       "      <td>0.019233</td>\n",
       "    </tr>\n",
       "    <tr>\n",
       "      <th>2020-07-27</th>\n",
       "      <td>5075.0</td>\n",
       "      <td>5150.0</td>\n",
       "      <td>5025.0</td>\n",
       "      <td>5125.0</td>\n",
       "      <td>17645200</td>\n",
       "      <td>0.014851</td>\n",
       "      <td>0.019414</td>\n",
       "    </tr>\n",
       "    <tr>\n",
       "      <th>2020-07-28</th>\n",
       "      <td>5175.0</td>\n",
       "      <td>5225.0</td>\n",
       "      <td>5100.0</td>\n",
       "      <td>5175.0</td>\n",
       "      <td>30210400</td>\n",
       "      <td>0.009756</td>\n",
       "      <td>0.019475</td>\n",
       "    </tr>\n",
       "    <tr>\n",
       "      <th>2020-07-29</th>\n",
       "      <td>5175.0</td>\n",
       "      <td>5225.0</td>\n",
       "      <td>5050.0</td>\n",
       "      <td>5075.0</td>\n",
       "      <td>32010100</td>\n",
       "      <td>-0.019324</td>\n",
       "      <td>0.019562</td>\n",
       "    </tr>\n",
       "    <tr>\n",
       "      <th>2020-07-30</th>\n",
       "      <td>5025.0</td>\n",
       "      <td>5225.0</td>\n",
       "      <td>5000.0</td>\n",
       "      <td>5150.0</td>\n",
       "      <td>32720500</td>\n",
       "      <td>0.014778</td>\n",
       "      <td>0.019258</td>\n",
       "    </tr>\n",
       "  </tbody>\n",
       "</table>\n",
       "</div>"
      ],
      "text/plain": [
       "              open    high     low   close    volume       pct       std\n",
       "date                                                                    \n",
       "2020-07-24  5175.0  5175.0  5000.0  5050.0  32338100 -0.024155  0.019233\n",
       "2020-07-27  5075.0  5150.0  5025.0  5125.0  17645200  0.014851  0.019414\n",
       "2020-07-28  5175.0  5225.0  5100.0  5175.0  30210400  0.009756  0.019475\n",
       "2020-07-29  5175.0  5225.0  5050.0  5075.0  32010100 -0.019324  0.019562\n",
       "2020-07-30  5025.0  5225.0  5000.0  5150.0  32720500  0.014778  0.019258"
      ]
     },
     "execution_count": 7,
     "metadata": {
      "tags": []
     },
     "output_type": "execute_result"
    }
   ],
   "source": [
    "vola_window = 25\n",
    "ASII['std'] = ASII['pct'].rolling(vola_window).std()\n",
    "ASII.tail()"
   ]
  },
  {
   "cell_type": "code",
   "execution_count": null,
   "metadata": {
    "colab": {
     "base_uri": "https://localhost:8080/",
     "height": 235
    },
    "colab_type": "code",
    "id": "CnHsjMOaNl3Z",
    "outputId": "0368abb0-3cc4-4aa3-960e-58c8dd22305f"
   },
   "outputs": [
    {
     "data": {
      "text/html": [
       "<div>\n",
       "<style scoped>\n",
       "    .dataframe tbody tr th:only-of-type {\n",
       "        vertical-align: middle;\n",
       "    }\n",
       "\n",
       "    .dataframe tbody tr th {\n",
       "        vertical-align: top;\n",
       "    }\n",
       "\n",
       "    .dataframe thead th {\n",
       "        text-align: right;\n",
       "    }\n",
       "</style>\n",
       "<table border=\"1\" class=\"dataframe\">\n",
       "  <thead>\n",
       "    <tr style=\"text-align: right;\">\n",
       "      <th></th>\n",
       "      <th>open</th>\n",
       "      <th>high</th>\n",
       "      <th>low</th>\n",
       "      <th>close</th>\n",
       "      <th>volume</th>\n",
       "      <th>pct</th>\n",
       "      <th>std</th>\n",
       "      <th>ins_risk</th>\n",
       "    </tr>\n",
       "    <tr>\n",
       "      <th>date</th>\n",
       "      <th></th>\n",
       "      <th></th>\n",
       "      <th></th>\n",
       "      <th></th>\n",
       "      <th></th>\n",
       "      <th></th>\n",
       "      <th></th>\n",
       "      <th></th>\n",
       "    </tr>\n",
       "  </thead>\n",
       "  <tbody>\n",
       "    <tr>\n",
       "      <th>2020-07-24</th>\n",
       "      <td>5175.0</td>\n",
       "      <td>5175.0</td>\n",
       "      <td>5000.0</td>\n",
       "      <td>5050.0</td>\n",
       "      <td>32338100</td>\n",
       "      <td>-0.024155</td>\n",
       "      <td>0.019233</td>\n",
       "      <td>0.307725</td>\n",
       "    </tr>\n",
       "    <tr>\n",
       "      <th>2020-07-27</th>\n",
       "      <td>5075.0</td>\n",
       "      <td>5150.0</td>\n",
       "      <td>5025.0</td>\n",
       "      <td>5125.0</td>\n",
       "      <td>17645200</td>\n",
       "      <td>0.014851</td>\n",
       "      <td>0.019414</td>\n",
       "      <td>0.310627</td>\n",
       "    </tr>\n",
       "    <tr>\n",
       "      <th>2020-07-28</th>\n",
       "      <td>5175.0</td>\n",
       "      <td>5225.0</td>\n",
       "      <td>5100.0</td>\n",
       "      <td>5175.0</td>\n",
       "      <td>30210400</td>\n",
       "      <td>0.009756</td>\n",
       "      <td>0.019475</td>\n",
       "      <td>0.311602</td>\n",
       "    </tr>\n",
       "    <tr>\n",
       "      <th>2020-07-29</th>\n",
       "      <td>5175.0</td>\n",
       "      <td>5225.0</td>\n",
       "      <td>5050.0</td>\n",
       "      <td>5075.0</td>\n",
       "      <td>32010100</td>\n",
       "      <td>-0.019324</td>\n",
       "      <td>0.019562</td>\n",
       "      <td>0.313000</td>\n",
       "    </tr>\n",
       "    <tr>\n",
       "      <th>2020-07-30</th>\n",
       "      <td>5025.0</td>\n",
       "      <td>5225.0</td>\n",
       "      <td>5000.0</td>\n",
       "      <td>5150.0</td>\n",
       "      <td>32720500</td>\n",
       "      <td>0.014778</td>\n",
       "      <td>0.019258</td>\n",
       "      <td>0.308122</td>\n",
       "    </tr>\n",
       "  </tbody>\n",
       "</table>\n",
       "</div>"
      ],
      "text/plain": [
       "              open    high     low  ...       pct       std  ins_risk\n",
       "date                                ...                              \n",
       "2020-07-24  5175.0  5175.0  5000.0  ... -0.024155  0.019233  0.307725\n",
       "2020-07-27  5075.0  5150.0  5025.0  ...  0.014851  0.019414  0.310627\n",
       "2020-07-28  5175.0  5225.0  5100.0  ...  0.009756  0.019475  0.311602\n",
       "2020-07-29  5175.0  5225.0  5050.0  ... -0.019324  0.019562  0.313000\n",
       "2020-07-30  5025.0  5225.0  5000.0  ...  0.014778  0.019258  0.308122\n",
       "\n",
       "[5 rows x 8 columns]"
      ]
     },
     "execution_count": 8,
     "metadata": {
      "tags": []
     },
     "output_type": "execute_result"
    }
   ],
   "source": [
    "# Instrument Risk\n",
    "ASII['ins_risk'] = ASII['std'] * 16\n",
    "ASII.tail()"
   ]
  },
  {
   "cell_type": "markdown",
   "metadata": {
    "colab_type": "text",
    "id": "DfeIuuDsN7_x"
   },
   "source": [
    "## Simple Moving Average calculations"
   ]
  },
  {
   "cell_type": "code",
   "execution_count": null,
   "metadata": {
    "colab": {
     "base_uri": "https://localhost:8080/",
     "height": 235
    },
    "colab_type": "code",
    "id": "hFxj27rjONZx",
    "outputId": "f653a7f6-e749-4530-e7da-d68caf5f1a32"
   },
   "outputs": [
    {
     "data": {
      "text/html": [
       "<div>\n",
       "<style scoped>\n",
       "    .dataframe tbody tr th:only-of-type {\n",
       "        vertical-align: middle;\n",
       "    }\n",
       "\n",
       "    .dataframe tbody tr th {\n",
       "        vertical-align: top;\n",
       "    }\n",
       "\n",
       "    .dataframe thead th {\n",
       "        text-align: right;\n",
       "    }\n",
       "</style>\n",
       "<table border=\"1\" class=\"dataframe\">\n",
       "  <thead>\n",
       "    <tr style=\"text-align: right;\">\n",
       "      <th></th>\n",
       "      <th>open</th>\n",
       "      <th>high</th>\n",
       "      <th>low</th>\n",
       "      <th>close</th>\n",
       "      <th>volume</th>\n",
       "      <th>pct</th>\n",
       "      <th>std</th>\n",
       "      <th>ins_risk</th>\n",
       "      <th>fast_ma</th>\n",
       "      <th>slow_ma</th>\n",
       "      <th>ma_cross</th>\n",
       "    </tr>\n",
       "    <tr>\n",
       "      <th>date</th>\n",
       "      <th></th>\n",
       "      <th></th>\n",
       "      <th></th>\n",
       "      <th></th>\n",
       "      <th></th>\n",
       "      <th></th>\n",
       "      <th></th>\n",
       "      <th></th>\n",
       "      <th></th>\n",
       "      <th></th>\n",
       "      <th></th>\n",
       "    </tr>\n",
       "  </thead>\n",
       "  <tbody>\n",
       "    <tr>\n",
       "      <th>2020-07-24</th>\n",
       "      <td>5175.0</td>\n",
       "      <td>5175.0</td>\n",
       "      <td>5000.0</td>\n",
       "      <td>5050.0</td>\n",
       "      <td>32338100</td>\n",
       "      <td>-0.024155</td>\n",
       "      <td>0.019233</td>\n",
       "      <td>0.307725</td>\n",
       "      <td>5038.1250</td>\n",
       "      <td>4517.421875</td>\n",
       "      <td>520.703125</td>\n",
       "    </tr>\n",
       "    <tr>\n",
       "      <th>2020-07-27</th>\n",
       "      <td>5075.0</td>\n",
       "      <td>5150.0</td>\n",
       "      <td>5025.0</td>\n",
       "      <td>5125.0</td>\n",
       "      <td>17645200</td>\n",
       "      <td>0.014851</td>\n",
       "      <td>0.019414</td>\n",
       "      <td>0.310627</td>\n",
       "      <td>5055.3125</td>\n",
       "      <td>4539.375000</td>\n",
       "      <td>515.937500</td>\n",
       "    </tr>\n",
       "    <tr>\n",
       "      <th>2020-07-28</th>\n",
       "      <td>5175.0</td>\n",
       "      <td>5225.0</td>\n",
       "      <td>5100.0</td>\n",
       "      <td>5175.0</td>\n",
       "      <td>30210400</td>\n",
       "      <td>0.009756</td>\n",
       "      <td>0.019475</td>\n",
       "      <td>0.311602</td>\n",
       "      <td>5076.2500</td>\n",
       "      <td>4563.359375</td>\n",
       "      <td>512.890625</td>\n",
       "    </tr>\n",
       "    <tr>\n",
       "      <th>2020-07-29</th>\n",
       "      <td>5175.0</td>\n",
       "      <td>5225.0</td>\n",
       "      <td>5050.0</td>\n",
       "      <td>5075.0</td>\n",
       "      <td>32010100</td>\n",
       "      <td>-0.019324</td>\n",
       "      <td>0.019562</td>\n",
       "      <td>0.313000</td>\n",
       "      <td>5091.5625</td>\n",
       "      <td>4585.781250</td>\n",
       "      <td>505.781250</td>\n",
       "    </tr>\n",
       "    <tr>\n",
       "      <th>2020-07-30</th>\n",
       "      <td>5025.0</td>\n",
       "      <td>5225.0</td>\n",
       "      <td>5000.0</td>\n",
       "      <td>5150.0</td>\n",
       "      <td>32720500</td>\n",
       "      <td>0.014778</td>\n",
       "      <td>0.019258</td>\n",
       "      <td>0.308122</td>\n",
       "      <td>5106.5625</td>\n",
       "      <td>4607.500000</td>\n",
       "      <td>499.062500</td>\n",
       "    </tr>\n",
       "  </tbody>\n",
       "</table>\n",
       "</div>"
      ],
      "text/plain": [
       "              open    high     low  ...    fast_ma      slow_ma    ma_cross\n",
       "date                                ...                                    \n",
       "2020-07-24  5175.0  5175.0  5000.0  ...  5038.1250  4517.421875  520.703125\n",
       "2020-07-27  5075.0  5150.0  5025.0  ...  5055.3125  4539.375000  515.937500\n",
       "2020-07-28  5175.0  5225.0  5100.0  ...  5076.2500  4563.359375  512.890625\n",
       "2020-07-29  5175.0  5225.0  5050.0  ...  5091.5625  4585.781250  505.781250\n",
       "2020-07-30  5025.0  5225.0  5000.0  ...  5106.5625  4607.500000  499.062500\n",
       "\n",
       "[5 rows x 11 columns]"
      ]
     },
     "execution_count": 9,
     "metadata": {
      "tags": []
     },
     "output_type": "execute_result"
    }
   ],
   "source": [
    "fast_period = 16\n",
    "slow_period = 64\n",
    "ASII['fast_ma'] = ASII['close'].rolling(fast_period).mean()\n",
    "ASII['slow_ma'] = ASII['close'].rolling(slow_period).mean()\n",
    "ASII['ma_cross'] = ASII['fast_ma'] - ASII ['slow_ma']\n",
    "ASII.tail()"
   ]
  },
  {
   "cell_type": "markdown",
   "metadata": {
    "colab_type": "text",
    "id": "Xc1WtcF6OqYa"
   },
   "source": [
    "## Position Sizing\n",
    "\n",
    "### Notional exposure = (target risk x capital) / instrument risk %"
   ]
  },
  {
   "cell_type": "code",
   "execution_count": null,
   "metadata": {
    "colab": {
     "base_uri": "https://localhost:8080/",
     "height": 34
    },
    "colab_type": "code",
    "id": "M4SiVZiDYIXH",
    "outputId": "6ad166ab-bfc7-4cf7-84ec-08dad8ab40f4"
   },
   "outputs": [
    {
     "data": {
      "text/plain": [
       "7789129.230926564"
      ]
     },
     "execution_count": 13,
     "metadata": {
      "tags": []
     },
     "output_type": "execute_result"
    }
   ],
   "source": [
    "risk_target = 0.12\n",
    "capital = 20000000\n",
    "expose = risk_target * capital / ASII['ins_risk'].iloc[-1]\n",
    "expose"
   ]
  }
 ],
 "metadata": {
  "colab": {
   "collapsed_sections": [
    "JLkYM_eCt6gO"
   ],
   "name": "leveraged_trading.ipynb",
   "provenance": [],
   "toc_visible": true
  },
  "kernelspec": {
   "display_name": "Python 3",
   "language": "python",
   "name": "python3"
  },
  "language_info": {
   "codemirror_mode": {
    "name": "ipython",
    "version": 3
   },
   "file_extension": ".py",
   "mimetype": "text/x-python",
   "name": "python",
   "nbconvert_exporter": "python",
   "pygments_lexer": "ipython3",
   "version": "3.6.10"
  }
 },
 "nbformat": 4,
 "nbformat_minor": 4
}
